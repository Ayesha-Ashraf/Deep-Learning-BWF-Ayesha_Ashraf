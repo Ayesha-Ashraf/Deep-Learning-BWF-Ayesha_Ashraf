{
 "cells": [
  {
   "cell_type": "markdown",
   "id": "91841f4f",
   "metadata": {},
   "source": [
    "# Read Json"
   ]
  },
  {
   "cell_type": "code",
   "execution_count": 1,
   "id": "7c1b0808",
   "metadata": {},
   "outputs": [],
   "source": [
    "import pandas as pd"
   ]
  },
  {
   "cell_type": "code",
   "execution_count": 2,
   "id": "24f3b9f4",
   "metadata": {},
   "outputs": [],
   "source": [
    "import numpy as np"
   ]
  },
  {
   "cell_type": "code",
   "execution_count": 3,
   "id": "209180ee",
   "metadata": {},
   "outputs": [],
   "source": [
    "import json"
   ]
  },
  {
   "cell_type": "code",
   "execution_count": 47,
   "id": "d8454c5e",
   "metadata": {},
   "outputs": [],
   "source": [
    "\n",
    "\n",
    "\n",
    "with open('obj.json', 'r') as f:\n",
    "  data = json.load(f)\n",
    "\n",
    "\n"
   ]
  },
  {
   "cell_type": "code",
   "execution_count": 48,
   "id": "693c44a9",
   "metadata": {
    "scrolled": true
   },
   "outputs": [
    {
     "data": {
      "text/plain": [
       "[{'id1': 1,\n",
       "  'name': 'Physics',\n",
       "  'image': 'https://g.christianbook.com/dg/product/web/f400/169958.jpg'},\n",
       " {'id2': 2,\n",
       "  'name': 'Chemisty',\n",
       "  'image': 'https://chemistryhall.com/wp-content/uploads/2019/08/chemgen.jpg'},\n",
       " {'id3': 3,\n",
       "  'name': 'Biology',\n",
       "  'image': 'https://open.umn.edu/rails/active_storage/blobs/eyJfcmFpbHMiOnsibWVzc2FnZSI6IkJBaHBBcWdJIiwiZXhwIjpudWxsLCJwdXIiOiJibG9iX2lkIn19--bbdd3db213b58e0310c4eadcc3b1bdf6a463717c/Principles-of-Biology-683x1024.jpg'},\n",
       " {'id4': 4,\n",
       "  'name': 'Mathematics',\n",
       "  'image': 'https://comptes-books.com/wp-content/uploads/2021/03/TOP-Math-Textbook-6B.jpg'},\n",
       " {'id5': 5,\n",
       "  'name': 'Computer Science',\n",
       "  'image': 'https://g.christianbook.com/dg/product/web/f400/169958.jpg'}]"
      ]
     },
     "execution_count": 48,
     "metadata": {},
     "output_type": "execute_result"
    }
   ],
   "source": [
    "data"
   ]
  },
  {
   "cell_type": "code",
   "execution_count": 52,
   "id": "4e510df2",
   "metadata": {},
   "outputs": [
    {
     "data": {
      "text/plain": [
       "[{'id1': 1,\n",
       "  'name': 'Physics',\n",
       "  'image': 'https://g.christianbook.com/dg/product/web/f400/169958.jpg'},\n",
       " {'id2': 2,\n",
       "  'name': 'Chemisty',\n",
       "  'image': 'https://chemistryhall.com/wp-content/uploads/2019/08/chemgen.jpg'},\n",
       " {'id3': 3,\n",
       "  'name': 'Biology',\n",
       "  'image': 'https://open.umn.edu/rails/active_storage/blobs/eyJfcmFpbHMiOnsibWVzc2FnZSI6IkJBaHBBcWdJIiwiZXhwIjpudWxsLCJwdXIiOiJibG9iX2lkIn19--bbdd3db213b58e0310c4eadcc3b1bdf6a463717c/Principles-of-Biology-683x1024.jpg'},\n",
       " {'id4': 4,\n",
       "  'name': 'Mathematics',\n",
       "  'image': 'https://comptes-books.com/wp-content/uploads/2021/03/TOP-Math-Textbook-6B.jpg'},\n",
       " {'id5': 5,\n",
       "  'name': 'Computer Science',\n",
       "  'image': 'https://g.christianbook.com/dg/product/web/f400/169958.jpg'}]"
      ]
     },
     "execution_count": 52,
     "metadata": {},
     "output_type": "execute_result"
    }
   ],
   "source": [
    "data"
   ]
  },
  {
   "cell_type": "code",
   "execution_count": 55,
   "id": "14d13242",
   "metadata": {},
   "outputs": [],
   "source": [
    "asjson=json.dumps(data)"
   ]
  },
  {
   "cell_type": "code",
   "execution_count": 73,
   "id": "59f4dcf2",
   "metadata": {},
   "outputs": [],
   "source": [
    "with open('example.json', 'r') as f:\n",
    "  result= json.load(f)\n",
    "\n"
   ]
  },
  {
   "cell_type": "code",
   "execution_count": 74,
   "id": "b0586cb9",
   "metadata": {},
   "outputs": [
    {
     "data": {
      "text/plain": [
       "[{'a': 1, 'b': 2, 'c': 3}, {'a': 4, 'b': 5, 'c': 6}, {'a': 7, 'b': 8, 'c': 9}]"
      ]
     },
     "execution_count": 74,
     "metadata": {},
     "output_type": "execute_result"
    }
   ],
   "source": [
    "result\n"
   ]
  },
  {
   "cell_type": "code",
   "execution_count": 75,
   "id": "a71f0bc4",
   "metadata": {},
   "outputs": [],
   "source": [
    "result=pd.read_json('example.json')"
   ]
  },
  {
   "cell_type": "code",
   "execution_count": 76,
   "id": "0f70740d",
   "metadata": {},
   "outputs": [
    {
     "data": {
      "text/html": [
       "<div>\n",
       "<style scoped>\n",
       "    .dataframe tbody tr th:only-of-type {\n",
       "        vertical-align: middle;\n",
       "    }\n",
       "\n",
       "    .dataframe tbody tr th {\n",
       "        vertical-align: top;\n",
       "    }\n",
       "\n",
       "    .dataframe thead th {\n",
       "        text-align: right;\n",
       "    }\n",
       "</style>\n",
       "<table border=\"1\" class=\"dataframe\">\n",
       "  <thead>\n",
       "    <tr style=\"text-align: right;\">\n",
       "      <th></th>\n",
       "      <th>a</th>\n",
       "      <th>b</th>\n",
       "      <th>c</th>\n",
       "    </tr>\n",
       "  </thead>\n",
       "  <tbody>\n",
       "    <tr>\n",
       "      <th>0</th>\n",
       "      <td>1</td>\n",
       "      <td>2</td>\n",
       "      <td>3</td>\n",
       "    </tr>\n",
       "    <tr>\n",
       "      <th>1</th>\n",
       "      <td>4</td>\n",
       "      <td>5</td>\n",
       "      <td>6</td>\n",
       "    </tr>\n",
       "    <tr>\n",
       "      <th>2</th>\n",
       "      <td>7</td>\n",
       "      <td>8</td>\n",
       "      <td>9</td>\n",
       "    </tr>\n",
       "  </tbody>\n",
       "</table>\n",
       "</div>"
      ],
      "text/plain": [
       "   a  b  c\n",
       "0  1  2  3\n",
       "1  4  5  6\n",
       "2  7  8  9"
      ]
     },
     "execution_count": 76,
     "metadata": {},
     "output_type": "execute_result"
    }
   ],
   "source": [
    "result\n"
   ]
  },
  {
   "cell_type": "code",
   "execution_count": null,
   "id": "f261a71c",
   "metadata": {},
   "outputs": [],
   "source": []
  }
 ],
 "metadata": {
  "kernelspec": {
   "display_name": "Python 3 (ipykernel)",
   "language": "python",
   "name": "python3"
  },
  "language_info": {
   "codemirror_mode": {
    "name": "ipython",
    "version": 3
   },
   "file_extension": ".py",
   "mimetype": "text/x-python",
   "name": "python",
   "nbconvert_exporter": "python",
   "pygments_lexer": "ipython3",
   "version": "3.11.1"
  }
 },
 "nbformat": 4,
 "nbformat_minor": 5
}
