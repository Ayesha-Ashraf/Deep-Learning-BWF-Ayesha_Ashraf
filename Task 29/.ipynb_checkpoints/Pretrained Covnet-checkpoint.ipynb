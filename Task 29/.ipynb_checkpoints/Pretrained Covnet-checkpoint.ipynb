{
 "cells": [
  {
   "cell_type": "markdown",
   "metadata": {
    "papermill": {
     "duration": 0.056262,
     "end_time": "2020-11-17T09:30:20.301057",
     "exception": false,
     "start_time": "2020-11-17T09:30:20.244795",
     "status": "completed"
    },
    "tags": []
   },
   "source": [
    "# How to build models with limited amount of data"
   ]
  },
  {
   "cell_type": "code",
   "execution_count": 31,
   "metadata": {
    "execution": {
     "iopub.execute_input": "2020-11-17T10:09:46.911353Z",
     "iopub.status.busy": "2020-11-17T10:09:46.910444Z",
     "iopub.status.idle": "2020-11-17T10:09:47.655501Z",
     "shell.execute_reply": "2020-11-17T10:09:47.654758Z"
    },
    "papermill": {
     "duration": 4.429456,
     "end_time": "2020-11-17T10:09:47.655613",
     "exception": false,
     "start_time": "2020-11-17T10:09:43.226157",
     "status": "completed"
    },
    "tags": []
   },
   "outputs": [
    {
     "name": "stdout",
     "output_type": "stream",
     "text": [
      "Downloading data from https://storage.googleapis.com/tensorflow/keras-applications/vgg16/vgg16_weights_tf_dim_ordering_tf_kernels_notop.h5\n",
      "58892288/58889256 [==============================] - 0s 0us/step\n"
     ]
    }
   ],
   "source": [
    "# lets import VGG16 pre-trained model\n",
    "from keras.applications import VGG16\n",
    "\n",
    "conv_base = VGG16(weights='imagenet',include_top=False,input_shape=(150, 150, 3))"
   ]
  },
  {
   "cell_type": "code",
   "execution_count": 32,
   "metadata": {
    "execution": {
     "iopub.execute_input": "2020-11-17T10:10:02.824295Z",
     "iopub.status.busy": "2020-11-17T10:10:02.823279Z",
     "iopub.status.idle": "2020-11-17T10:10:02.829771Z",
     "shell.execute_reply": "2020-11-17T10:10:02.825146Z"
    },
    "papermill": {
     "duration": 3.660612,
     "end_time": "2020-11-17T10:10:02.829934",
     "exception": false,
     "start_time": "2020-11-17T10:09:59.169322",
     "status": "completed"
    },
    "tags": []
   },
   "outputs": [
    {
     "name": "stdout",
     "output_type": "stream",
     "text": [
      "Model: \"vgg16\"\n",
      "_________________________________________________________________\n",
      "Layer (type)                 Output Shape              Param #   \n",
      "=================================================================\n",
      "input_1 (InputLayer)         [(None, 150, 150, 3)]     0         \n",
      "_________________________________________________________________\n",
      "block1_conv1 (Conv2D)        (None, 150, 150, 64)      1792      \n",
      "_________________________________________________________________\n",
      "block1_conv2 (Conv2D)        (None, 150, 150, 64)      36928     \n",
      "_________________________________________________________________\n",
      "block1_pool (MaxPooling2D)   (None, 75, 75, 64)        0         \n",
      "_________________________________________________________________\n",
      "block2_conv1 (Conv2D)        (None, 75, 75, 128)       73856     \n",
      "_________________________________________________________________\n",
      "block2_conv2 (Conv2D)        (None, 75, 75, 128)       147584    \n",
      "_________________________________________________________________\n",
      "block2_pool (MaxPooling2D)   (None, 37, 37, 128)       0         \n",
      "_________________________________________________________________\n",
      "block3_conv1 (Conv2D)        (None, 37, 37, 256)       295168    \n",
      "_________________________________________________________________\n",
      "block3_conv2 (Conv2D)        (None, 37, 37, 256)       590080    \n",
      "_________________________________________________________________\n",
      "block3_conv3 (Conv2D)        (None, 37, 37, 256)       590080    \n",
      "_________________________________________________________________\n",
      "block3_pool (MaxPooling2D)   (None, 18, 18, 256)       0         \n",
      "_________________________________________________________________\n",
      "block4_conv1 (Conv2D)        (None, 18, 18, 512)       1180160   \n",
      "_________________________________________________________________\n",
      "block4_conv2 (Conv2D)        (None, 18, 18, 512)       2359808   \n",
      "_________________________________________________________________\n",
      "block4_conv3 (Conv2D)        (None, 18, 18, 512)       2359808   \n",
      "_________________________________________________________________\n",
      "block4_pool (MaxPooling2D)   (None, 9, 9, 512)         0         \n",
      "_________________________________________________________________\n",
      "block5_conv1 (Conv2D)        (None, 9, 9, 512)         2359808   \n",
      "_________________________________________________________________\n",
      "block5_conv2 (Conv2D)        (None, 9, 9, 512)         2359808   \n",
      "_________________________________________________________________\n",
      "block5_conv3 (Conv2D)        (None, 9, 9, 512)         2359808   \n",
      "_________________________________________________________________\n",
      "block5_pool (MaxPooling2D)   (None, 4, 4, 512)         0         \n",
      "=================================================================\n",
      "Total params: 14,714,688\n",
      "Trainable params: 14,714,688\n",
      "Non-trainable params: 0\n",
      "_________________________________________________________________\n"
     ]
    }
   ],
   "source": [
    "conv_base.summary()"
   ]
  },
  {
   "cell_type": "markdown",
   "metadata": {
    "papermill": {
     "duration": 3.480569,
     "end_time": "2020-11-17T10:10:16.765745",
     "exception": false,
     "start_time": "2020-11-17T10:10:13.285176",
     "status": "completed"
    },
    "tags": []
   },
   "source": [
    "#### 3.3.2) FAST FEATURE EXTRACTION WITHOUT DATA AUGMENTATION\n",
    "\n",
    "We’ll start by running instances of the previously introduced ImageDataGenerator to extract images as Numpy arrays as well as their labels. We’ll extract features from these images by calling the predict method of the conv_base model."
   ]
  },
  {
   "cell_type": "code",
   "execution_count": 33,
   "metadata": {
    "execution": {
     "iopub.execute_input": "2020-11-17T10:10:23.707943Z",
     "iopub.status.busy": "2020-11-17T10:10:23.707078Z",
     "iopub.status.idle": "2020-11-17T10:10:23.711159Z",
     "shell.execute_reply": "2020-11-17T10:10:23.710637Z"
    },
    "papermill": {
     "duration": 3.619976,
     "end_time": "2020-11-17T10:10:23.711283",
     "exception": false,
     "start_time": "2020-11-17T10:10:20.091307",
     "status": "completed"
    },
    "tags": []
   },
   "outputs": [],
   "source": [
    "#base_dir = '/Users/fchollet/Downloads/cats_and_dogs_small'\n",
    "#train_dir = os.path.join(base_dir, 'train')\n",
    "#validation_dir = os.path.join(base_dir, 'validation')\n",
    "#test_dir = os.path.join(base_dir, 'test')\n",
    "\n",
    "datagen = ImageDataGenerator(rescale=1./255)\n",
    "batch_size = 20\n",
    "\n",
    "def extract_features(directory, sample_count):\n",
    "    features = np.zeros(shape=(sample_count, 4, 4, 512))\n",
    "    labels = np.zeros(shape=(sample_count))\n",
    "    generator = datagen.flow_from_directory(directory,target_size=(150, 150),batch_size=batch_size,class_mode='binary')\n",
    "    \n",
    "    i=0\n",
    "    for inputs_batch, labels_batch in generator:\n",
    "        features_batch = conv_base.predict(inputs_batch)\n",
    "        features[i * batch_size : (i + 1) * batch_size] = features_batch\n",
    "        labels[i * batch_size : (i + 1) * batch_size] = labels_batch\n",
    "        i += 1\n",
    "        if i * batch_size >= sample_count:\n",
    "            break\n",
    "    return features, labels"
   ]
  },
  {
   "cell_type": "code",
   "execution_count": 34,
   "metadata": {
    "execution": {
     "iopub.execute_input": "2020-11-17T10:10:30.879284Z",
     "iopub.status.busy": "2020-11-17T10:10:30.878612Z",
     "iopub.status.idle": "2020-11-17T10:10:49.328907Z",
     "shell.execute_reply": "2020-11-17T10:10:49.328078Z"
    },
    "papermill": {
     "duration": 21.803116,
     "end_time": "2020-11-17T10:10:49.329058",
     "exception": false,
     "start_time": "2020-11-17T10:10:27.525942",
     "status": "completed"
    },
    "tags": []
   },
   "outputs": [
    {
     "name": "stdout",
     "output_type": "stream",
     "text": [
      "Found 2000 images belonging to 2 classes.\n",
      "Found 1000 images belonging to 2 classes.\n"
     ]
    }
   ],
   "source": [
    "train_features, train_labels = extract_features(train_dir, 2000)\n",
    "validation_features, validation_labels = extract_features(validation_dir, 1000)"
   ]
  },
  {
   "cell_type": "markdown",
   "metadata": {
    "papermill": {
     "duration": 3.781891,
     "end_time": "2020-11-17T10:10:56.510347",
     "exception": false,
     "start_time": "2020-11-17T10:10:52.728456",
     "status": "completed"
    },
    "tags": []
   },
   "source": [
    "The extracted features are currently of shape (samples, 4, 4, 512). You’ll feed them to a densely connected classifier, so first you must flatten them to (samples, 8192):"
   ]
  },
  {
   "cell_type": "code",
   "execution_count": 35,
   "metadata": {
    "execution": {
     "iopub.execute_input": "2020-11-17T10:11:03.810785Z",
     "iopub.status.busy": "2020-11-17T10:11:03.808822Z",
     "iopub.status.idle": "2020-11-17T10:11:03.811461Z",
     "shell.execute_reply": "2020-11-17T10:11:03.811952Z"
    },
    "papermill": {
     "duration": 3.499171,
     "end_time": "2020-11-17T10:11:03.812087",
     "exception": false,
     "start_time": "2020-11-17T10:11:00.312916",
     "status": "completed"
    },
    "tags": []
   },
   "outputs": [],
   "source": [
    "train_features = np.reshape(train_features, (2000, 4*4* 512))\n",
    "validation_features = np.reshape(validation_features, (1000, 4*4* 512))"
   ]
  },
  {
   "cell_type": "markdown",
   "metadata": {
    "papermill": {
     "duration": 3.3124,
     "end_time": "2020-11-17T10:11:10.696366",
     "exception": false,
     "start_time": "2020-11-17T10:11:07.383966",
     "status": "completed"
    },
    "tags": []
   },
   "source": [
    "At this point, we can define our densely connected classifier (note the use of dropout for regularization) and train it on the data and labels that we just recorded."
   ]
  },
  {
   "cell_type": "code",
   "execution_count": 36,
   "metadata": {
    "execution": {
     "iopub.execute_input": "2020-11-17T10:11:17.567235Z",
     "iopub.status.busy": "2020-11-17T10:11:17.566102Z",
     "iopub.status.idle": "2020-11-17T10:11:17.597091Z",
     "shell.execute_reply": "2020-11-17T10:11:17.596262Z"
    },
    "papermill": {
     "duration": 3.592194,
     "end_time": "2020-11-17T10:11:17.597217",
     "exception": false,
     "start_time": "2020-11-17T10:11:14.005023",
     "status": "completed"
    },
    "tags": []
   },
   "outputs": [],
   "source": [
    "# Densly Connected Classifier\n",
    "model = keras.models.Sequential()\n",
    "model.add(keras.layers.Dense(256, activation='relu', input_dim=4 * 4 * 512))\n",
    "model.add(keras.layers.Dropout(0.5))\n",
    "model.add(keras.layers.Dense(1, activation='sigmoid'))"
   ]
  },
  {
   "cell_type": "code",
   "execution_count": 37,
   "metadata": {
    "execution": {
     "iopub.execute_input": "2020-11-17T10:11:24.253518Z",
     "iopub.status.busy": "2020-11-17T10:11:24.252549Z",
     "iopub.status.idle": "2020-11-17T10:11:24.258606Z",
     "shell.execute_reply": "2020-11-17T10:11:24.257859Z"
    },
    "papermill": {
     "duration": 3.317039,
     "end_time": "2020-11-17T10:11:24.258747",
     "exception": false,
     "start_time": "2020-11-17T10:11:20.941708",
     "status": "completed"
    },
    "tags": []
   },
   "outputs": [],
   "source": [
    "# compile the model\n",
    "model.compile(optimizer=optimizers.RMSprop(lr=2e-5),\n",
    "loss='binary_crossentropy',\n",
    "metrics=['acc'])"
   ]
  },
  {
   "cell_type": "code",
   "execution_count": 38,
   "metadata": {
    "execution": {
     "iopub.execute_input": "2020-11-17T10:11:31.717878Z",
     "iopub.status.busy": "2020-11-17T10:11:31.716661Z",
     "iopub.status.idle": "2020-11-17T10:11:42.842464Z",
     "shell.execute_reply": "2020-11-17T10:11:42.841411Z"
    },
    "papermill": {
     "duration": 14.978236,
     "end_time": "2020-11-17T10:11:42.842583",
     "exception": false,
     "start_time": "2020-11-17T10:11:27.864347",
     "status": "completed"
    },
    "tags": []
   },
   "outputs": [
    {
     "name": "stdout",
     "output_type": "stream",
     "text": [
      "Epoch 1/30\n",
      "100/100 [==============================] - 0s 5ms/step - loss: 0.5878 - acc: 0.6925 - val_loss: 0.4362 - val_acc: 0.8330\n",
      "Epoch 2/30\n",
      "100/100 [==============================] - 0s 3ms/step - loss: 0.4202 - acc: 0.8235 - val_loss: 0.3573 - val_acc: 0.8750\n",
      "Epoch 3/30\n",
      "100/100 [==============================] - 0s 3ms/step - loss: 0.3582 - acc: 0.8415 - val_loss: 0.3210 - val_acc: 0.8790\n",
      "Epoch 4/30\n",
      "100/100 [==============================] - 0s 3ms/step - loss: 0.3203 - acc: 0.8610 - val_loss: 0.2956 - val_acc: 0.8900\n",
      "Epoch 5/30\n",
      "100/100 [==============================] - 0s 3ms/step - loss: 0.2916 - acc: 0.8860 - val_loss: 0.2829 - val_acc: 0.8920\n",
      "Epoch 6/30\n",
      "100/100 [==============================] - 0s 3ms/step - loss: 0.2629 - acc: 0.8975 - val_loss: 0.2708 - val_acc: 0.8960\n",
      "Epoch 7/30\n",
      "100/100 [==============================] - 0s 3ms/step - loss: 0.2490 - acc: 0.9055 - val_loss: 0.2654 - val_acc: 0.9010\n",
      "Epoch 8/30\n",
      "100/100 [==============================] - 0s 3ms/step - loss: 0.2321 - acc: 0.9105 - val_loss: 0.2567 - val_acc: 0.8990\n",
      "Epoch 9/30\n",
      "100/100 [==============================] - 0s 3ms/step - loss: 0.2281 - acc: 0.9150 - val_loss: 0.2529 - val_acc: 0.8990\n",
      "Epoch 10/30\n",
      "100/100 [==============================] - 0s 3ms/step - loss: 0.2111 - acc: 0.9165 - val_loss: 0.2510 - val_acc: 0.9010\n",
      "Epoch 11/30\n",
      "100/100 [==============================] - 0s 3ms/step - loss: 0.1945 - acc: 0.9275 - val_loss: 0.2440 - val_acc: 0.9020\n",
      "Epoch 12/30\n",
      "100/100 [==============================] - 0s 3ms/step - loss: 0.1893 - acc: 0.9275 - val_loss: 0.2405 - val_acc: 0.9040\n",
      "Epoch 13/30\n",
      "100/100 [==============================] - 0s 3ms/step - loss: 0.1789 - acc: 0.9310 - val_loss: 0.2381 - val_acc: 0.9000\n",
      "Epoch 14/30\n",
      "100/100 [==============================] - 0s 3ms/step - loss: 0.1712 - acc: 0.9380 - val_loss: 0.2383 - val_acc: 0.9070\n",
      "Epoch 15/30\n",
      "100/100 [==============================] - 0s 3ms/step - loss: 0.1603 - acc: 0.9445 - val_loss: 0.2451 - val_acc: 0.9040\n",
      "Epoch 16/30\n",
      "100/100 [==============================] - 0s 3ms/step - loss: 0.1534 - acc: 0.9450 - val_loss: 0.2338 - val_acc: 0.9030\n",
      "Epoch 17/30\n",
      "100/100 [==============================] - 0s 3ms/step - loss: 0.1523 - acc: 0.9440 - val_loss: 0.2348 - val_acc: 0.9020\n",
      "Epoch 18/30\n",
      "100/100 [==============================] - 0s 5ms/step - loss: 0.1381 - acc: 0.9565 - val_loss: 0.2385 - val_acc: 0.9020\n",
      "Epoch 19/30\n",
      "100/100 [==============================] - 0s 5ms/step - loss: 0.1362 - acc: 0.9525 - val_loss: 0.2322 - val_acc: 0.9010\n",
      "Epoch 20/30\n",
      "100/100 [==============================] - 0s 3ms/step - loss: 0.1319 - acc: 0.9555 - val_loss: 0.2363 - val_acc: 0.9060\n",
      "Epoch 21/30\n",
      "100/100 [==============================] - 0s 3ms/step - loss: 0.1206 - acc: 0.9580 - val_loss: 0.2469 - val_acc: 0.8980\n",
      "Epoch 22/30\n",
      "100/100 [==============================] - 0s 3ms/step - loss: 0.1197 - acc: 0.9630 - val_loss: 0.2317 - val_acc: 0.9040\n",
      "Epoch 23/30\n",
      "100/100 [==============================] - 0s 3ms/step - loss: 0.1189 - acc: 0.9580 - val_loss: 0.2367 - val_acc: 0.9000\n",
      "Epoch 24/30\n",
      "100/100 [==============================] - 0s 3ms/step - loss: 0.1095 - acc: 0.9625 - val_loss: 0.2327 - val_acc: 0.9050\n",
      "Epoch 25/30\n",
      "100/100 [==============================] - 0s 3ms/step - loss: 0.1050 - acc: 0.9695 - val_loss: 0.2571 - val_acc: 0.8950\n",
      "Epoch 26/30\n",
      "100/100 [==============================] - 0s 4ms/step - loss: 0.1005 - acc: 0.9690 - val_loss: 0.2328 - val_acc: 0.9050\n",
      "Epoch 27/30\n",
      "100/100 [==============================] - 0s 3ms/step - loss: 0.0978 - acc: 0.9690 - val_loss: 0.2333 - val_acc: 0.9010\n",
      "Epoch 28/30\n",
      "100/100 [==============================] - 0s 3ms/step - loss: 0.0913 - acc: 0.9710 - val_loss: 0.2489 - val_acc: 0.8980\n",
      "Epoch 29/30\n",
      "100/100 [==============================] - 0s 3ms/step - loss: 0.0940 - acc: 0.9675 - val_loss: 0.2343 - val_acc: 0.9050\n",
      "Epoch 30/30\n",
      "100/100 [==============================] - 0s 4ms/step - loss: 0.0870 - acc: 0.9770 - val_loss: 0.2355 - val_acc: 0.9030\n"
     ]
    }
   ],
   "source": [
    "# fit the model on the features extracted\n",
    "history = model.fit(train_features, train_labels,epochs=EPOCH_30,batch_size=20,validation_data=(validation_features, validation_labels))"
   ]
  },
  {
   "cell_type": "markdown",
   "metadata": {
    "papermill": {
     "duration": 4.086867,
     "end_time": "2020-11-17T10:11:50.688200",
     "exception": false,
     "start_time": "2020-11-17T10:11:46.601333",
     "status": "completed"
    },
    "tags": []
   },
   "source": [
    "Training is very fast, because we only have to deal with two Dense layers"
   ]
  },
  {
   "cell_type": "code",
   "execution_count": 39,
   "metadata": {
    "execution": {
     "iopub.execute_input": "2020-11-17T10:11:57.968390Z",
     "iopub.status.busy": "2020-11-17T10:11:57.967297Z",
     "iopub.status.idle": "2020-11-17T10:11:58.354581Z",
     "shell.execute_reply": "2020-11-17T10:11:58.353977Z"
    },
    "papermill": {
     "duration": 3.995797,
     "end_time": "2020-11-17T10:11:58.354701",
     "exception": false,
     "start_time": "2020-11-17T10:11:54.358904",
     "status": "completed"
    },
    "tags": []
   },
   "outputs": [
    {
     "data": {
      "image/png": "[encoded data removed]",
      "text/plain": [
       "<Figure size 432x288 with 1 Axes>"
      ]
     },
     "metadata": {
      "needs_background": "light"
     },
     "output_type": "display_data"
    },
    {
     "data": {
      "image/png": "[encoded data removed]",
      "text/plain": [
       "<Figure size 432x288 with 1 Axes>"
      ]
     },
     "metadata": {
      "needs_background": "light"
     },
     "output_type": "display_data"
    }
   ],
   "source": [
    "# plotting the results\n",
    "acc = history.history['acc']\n",
    "val_acc = history.history['val_acc']\n",
    "loss = history.history['loss']\n",
    "val_loss = history.history['val_loss']\n",
    "\n",
    "epochs = range(1, len(acc) + 1)\n",
    "\n",
    "plt.plot(epochs, acc, 'bo', label='Training acc')\n",
    "plt.plot(epochs, val_acc, 'b', label='Validation acc')\n",
    "plt.title('Training and validation accuracy')\n",
    "plt.legend()\n",
    "\n",
    "plt.figure()\n",
    "plt.plot(epochs, loss, 'bo', label='Training loss')\n",
    "plt.plot(epochs, val_loss, 'b', label='Validation loss')\n",
    "plt.title('Training and validation loss')\n",
    "plt.legend()\n",
    "\n",
    "plt.show()"
   ]
  },
  {
   "cell_type": "code",
   "execution_count": 40,
   "metadata": {
    "execution": {
     "iopub.execute_input": "2020-11-17T10:12:20.343503Z",
     "iopub.status.busy": "2020-11-17T10:12:20.342524Z",
     "iopub.status.idle": "2020-11-17T10:12:20.408749Z",
     "shell.execute_reply": "2020-11-17T10:12:20.407963Z"
    },
    "papermill": {
     "duration": 3.552229,
     "end_time": "2020-11-17T10:12:20.408853",
     "exception": false,
     "start_time": "2020-11-17T10:12:16.856624",
     "status": "completed"
    },
    "tags": []
   },
   "outputs": [],
   "source": [
    "#  Adding a densely connected classifier on top of the convolutional base\n",
    "model = keras.models.Sequential()\n",
    "model.add(conv_base) # adding pre-trained conv base model\n",
    "model.add(keras.layers.Flatten())\n",
    "model.add(keras.layers.Dense(256, activation='relu'))\n",
    "model.add(keras.layers.Dense(1, activation='sigmoid'))"
   ]
  },
  {
   "cell_type": "code",
   "execution_count": 41,
   "metadata": {
    "execution": {
     "iopub.execute_input": "2020-11-17T10:12:27.747985Z",
     "iopub.status.busy": "2020-11-17T10:12:27.747092Z",
     "iopub.status.idle": "2020-11-17T10:12:27.751874Z",
     "shell.execute_reply": "2020-11-17T10:12:27.752794Z"
    },
    "papermill": {
     "duration": 3.587181,
     "end_time": "2020-11-17T10:12:27.752993",
     "exception": false,
     "start_time": "2020-11-17T10:12:24.165812",
     "status": "completed"
    },
    "tags": []
   },
   "outputs": [
    {
     "name": "stdout",
     "output_type": "stream",
     "text": [
      "Model: \"sequential_3\"\n",
      "_________________________________________________________________\n",
      "Layer (type)                 Output Shape              Param #   \n",
      "=================================================================\n",
      "vgg16 (Functional)           (None, 4, 4, 512)         14714688  \n",
      "_________________________________________________________________\n",
      "flatten_2 (Flatten)          (None, 8192)              0         \n",
      "_________________________________________________________________\n",
      "dense_8 (Dense)              (None, 256)               2097408   \n",
      "_________________________________________________________________\n",
      "dense_9 (Dense)              (None, 1)                 257       \n",
      "=================================================================\n",
      "Total params: 16,812,353\n",
      "Trainable params: 16,812,353\n",
      "Non-trainable params: 0\n",
      "_________________________________________________________________\n"
     ]
    }
   ],
   "source": [
    "model.summary()"
   ]
  },
  {
   "cell_type": "code",
   "execution_count": 42,
   "metadata": {
    "execution": {
     "iopub.execute_input": "2020-11-17T10:12:42.419438Z",
     "iopub.status.busy": "2020-11-17T10:12:42.416715Z",
     "iopub.status.idle": "2020-11-17T10:12:42.422458Z",
     "shell.execute_reply": "2020-11-17T10:12:42.421832Z"
    },
    "papermill": {
     "duration": 3.501171,
     "end_time": "2020-11-17T10:12:42.422598",
     "exception": false,
     "start_time": "2020-11-17T10:12:38.921427",
     "status": "completed"
    },
    "tags": []
   },
   "outputs": [
    {
     "name": "stdout",
     "output_type": "stream",
     "text": [
      "This is the number of trainable weights before freezing the conv base: 30\n"
     ]
    }
   ],
   "source": [
    " print('This is the number of trainable weights before freezing the conv base:', len(model.trainable_weights))"
   ]
  },
  {
   "cell_type": "code",
   "execution_count": 43,
   "metadata": {
    "execution": {
     "iopub.execute_input": "2020-11-17T10:12:50.299876Z",
     "iopub.status.busy": "2020-11-17T10:12:50.297990Z",
     "iopub.status.idle": "2020-11-17T10:12:50.300633Z",
     "shell.execute_reply": "2020-11-17T10:12:50.301118Z"
    },
    "papermill": {
     "duration": 3.710553,
     "end_time": "2020-11-17T10:12:50.301265",
     "exception": false,
     "start_time": "2020-11-17T10:12:46.590712",
     "status": "completed"
    },
    "tags": []
   },
   "outputs": [],
   "source": [
    "# freezing the layers of pre-trained model\n",
    "conv_base.trainable = False"
   ]
  },
  {
   "cell_type": "code",
   "execution_count": 44,
   "metadata": {
    "execution": {
     "iopub.execute_input": "2020-11-17T10:12:57.843155Z",
     "iopub.status.busy": "2020-11-17T10:12:57.841046Z",
     "iopub.status.idle": "2020-11-17T10:12:57.846793Z",
     "shell.execute_reply": "2020-11-17T10:12:57.846012Z"
    },
    "papermill": {
     "duration": 3.973251,
     "end_time": "2020-11-17T10:12:57.846934",
     "exception": false,
     "start_time": "2020-11-17T10:12:53.873683",
     "status": "completed"
    },
    "tags": []
   },
   "outputs": [
    {
     "name": "stdout",
     "output_type": "stream",
     "text": [
      "This is the number of trainable weights after freezing the conv base: 4\n"
     ]
    }
   ],
   "source": [
    "print('This is the number of trainable weights after freezing the conv base:', len(model.trainable_weights))"
   ]
  },
  {
   "cell_type": "code",
   "execution_count": 45,
   "metadata": {
    "execution": {
     "iopub.execute_input": "2020-11-17T10:13:12.921161Z",
     "iopub.status.busy": "2020-11-17T10:13:12.920416Z",
     "iopub.status.idle": "2020-11-17T10:13:13.235462Z",
     "shell.execute_reply": "2020-11-17T10:13:13.234362Z"
    },
    "papermill": {
     "duration": 3.93196,
     "end_time": "2020-11-17T10:13:13.235575",
     "exception": false,
     "start_time": "2020-11-17T10:13:09.303615",
     "status": "completed"
    },
    "tags": []
   },
   "outputs": [
    {
     "name": "stdout",
     "output_type": "stream",
     "text": [
      "Found 2000 images belonging to 2 classes.\n",
      "Found 1000 images belonging to 2 classes.\n"
     ]
    }
   ],
   "source": [
    "#  Training the model end to end with a frozen convolutional base\n",
    "train_datagen = ImageDataGenerator(\n",
    "                rescale=1./255,\n",
    "                rotation_range=40,\n",
    "                width_shift_range=0.2,\n",
    "                height_shift_range=0.2,\n",
    "                shear_range=0.2,\n",
    "                zoom_range=0.2,\n",
    "                horizontal_flip=True,\n",
    "                fill_mode='nearest')\n",
    "\n",
    "test_datagen = ImageDataGenerator(rescale=1./255)\n",
    "\n",
    "train_generator = train_datagen.flow_from_directory(\n",
    "                    train_dir,\n",
    "                    target_size=(150, 150),\n",
    "                    batch_size=20,\n",
    "                    class_mode='binary')\n",
    "\n",
    "validation_generator = test_datagen.flow_from_directory(validation_dir,target_size=(150, 150),batch_size=20,class_mode='binary')"
   ]
  },
  {
   "cell_type": "code",
   "execution_count": 46,
   "metadata": {
    "execution": {
     "iopub.execute_input": "2020-11-17T10:13:20.490559Z",
     "iopub.status.busy": "2020-11-17T10:13:20.489219Z",
     "iopub.status.idle": "2020-11-17T10:13:20.495743Z",
     "shell.execute_reply": "2020-11-17T10:13:20.495135Z"
    },
    "papermill": {
     "duration": 3.742134,
     "end_time": "2020-11-17T10:13:20.495864",
     "exception": false,
     "start_time": "2020-11-17T10:13:16.753730",
     "status": "completed"
    },
    "tags": []
   },
   "outputs": [],
   "source": [
    "model.compile(loss='binary_crossentropy',optimizer=optimizers.RMSprop(lr=2e-5),metrics=['acc'])"
   ]
  },
  {
   "cell_type": "code",
   "execution_count": 47,
   "metadata": {
    "execution": {
     "iopub.execute_input": "2020-11-17T10:13:27.571391Z",
     "iopub.status.busy": "2020-11-17T10:13:27.570427Z",
     "iopub.status.idle": "2020-11-17T10:24:16.577567Z",
     "shell.execute_reply": "2020-11-17T10:24:16.576881Z"
    },
    "papermill": {
     "duration": 652.613933,
     "end_time": "2020-11-17T10:24:16.577682",
     "exception": false,
     "start_time": "2020-11-17T10:13:23.963749",
     "status": "completed"
    },
    "tags": []
   },
   "outputs": [
    {
     "name": "stdout",
     "output_type": "stream",
     "text": [
      "Epoch 1/30\n",
      "100/100 [==============================] - 21s 211ms/step - loss: 0.5947 - acc: 0.6905 - val_loss: 0.4514 - val_acc: 0.8330\n",
      "Epoch 2/30\n",
      "100/100 [==============================] - 23s 232ms/step - loss: 0.4845 - acc: 0.7800 - val_loss: 0.3776 - val_acc: 0.8580\n",
      "Epoch 3/30\n",
      "100/100 [==============================] - 19s 186ms/step - loss: 0.4452 - acc: 0.7995 - val_loss: 0.3332 - val_acc: 0.8740\n",
      "Epoch 4/30\n",
      "100/100 [==============================] - 23s 230ms/step - loss: 0.4054 - acc: 0.8260 - val_loss: 0.3091 - val_acc: 0.8780\n",
      "Epoch 5/30\n",
      "100/100 [==============================] - 22s 221ms/step - loss: 0.3805 - acc: 0.8345 - val_loss: 0.3056 - val_acc: 0.8700\n",
      "Epoch 6/30\n",
      "100/100 [==============================] - 19s 188ms/step - loss: 0.3672 - acc: 0.8450 - val_loss: 0.2874 - val_acc: 0.8810\n",
      "Epoch 7/30\n",
      "100/100 [==============================] - 23s 233ms/step - loss: 0.3540 - acc: 0.8420 - val_loss: 0.2914 - val_acc: 0.8770\n",
      "Epoch 8/30\n",
      "100/100 [==============================] - 19s 194ms/step - loss: 0.3422 - acc: 0.8500 - val_loss: 0.2745 - val_acc: 0.8920\n",
      "Epoch 9/30\n",
      "100/100 [==============================] - 22s 219ms/step - loss: 0.3418 - acc: 0.8535 - val_loss: 0.2853 - val_acc: 0.8770\n",
      "Epoch 10/30\n",
      "100/100 [==============================] - 23s 226ms/step - loss: 0.3398 - acc: 0.8500 - val_loss: 0.2642 - val_acc: 0.8920\n",
      "Epoch 11/30\n",
      "100/100 [==============================] - 21s 206ms/step - loss: 0.3227 - acc: 0.8635 - val_loss: 0.2588 - val_acc: 0.8940\n",
      "Epoch 12/30\n",
      "100/100 [==============================] - 23s 227ms/step - loss: 0.3268 - acc: 0.8590 - val_loss: 0.2583 - val_acc: 0.9000\n",
      "Epoch 13/30\n",
      "100/100 [==============================] - 20s 204ms/step - loss: 0.3317 - acc: 0.8510 - val_loss: 0.2505 - val_acc: 0.9020\n",
      "Epoch 14/30\n",
      "100/100 [==============================] - 23s 233ms/step - loss: 0.3177 - acc: 0.8545 - val_loss: 0.2488 - val_acc: 0.9020\n",
      "Epoch 15/30\n",
      "100/100 [==============================] - 20s 203ms/step - loss: 0.3006 - acc: 0.8695 - val_loss: 0.2527 - val_acc: 0.8990\n",
      "Epoch 16/30\n",
      "100/100 [==============================] - 23s 229ms/step - loss: 0.3191 - acc: 0.8595 - val_loss: 0.2449 - val_acc: 0.9050\n",
      "Epoch 17/30\n",
      "100/100 [==============================] - 20s 201ms/step - loss: 0.3213 - acc: 0.8515 - val_loss: 0.2460 - val_acc: 0.9020\n",
      "Epoch 18/30\n",
      "100/100 [==============================] - 21s 209ms/step - loss: 0.3057 - acc: 0.8655 - val_loss: 0.2589 - val_acc: 0.8940\n",
      "Epoch 19/30\n",
      "100/100 [==============================] - 24s 236ms/step - loss: 0.2950 - acc: 0.8730 - val_loss: 0.2442 - val_acc: 0.9030\n",
      "Epoch 20/30\n",
      "100/100 [==============================] - 20s 200ms/step - loss: 0.3061 - acc: 0.8620 - val_loss: 0.2458 - val_acc: 0.9030\n",
      "Epoch 21/30\n",
      "100/100 [==============================] - 20s 203ms/step - loss: 0.2838 - acc: 0.8720 - val_loss: 0.2482 - val_acc: 0.9030\n",
      "Epoch 22/30\n",
      "100/100 [==============================] - 24s 235ms/step - loss: 0.2937 - acc: 0.8750 - val_loss: 0.2380 - val_acc: 0.8980\n",
      "Epoch 23/30\n",
      "100/100 [==============================] - 21s 208ms/step - loss: 0.2918 - acc: 0.8660 - val_loss: 0.2384 - val_acc: 0.9030\n",
      "Epoch 24/30\n",
      "100/100 [==============================] - 20s 203ms/step - loss: 0.2891 - acc: 0.8740 - val_loss: 0.2398 - val_acc: 0.8990\n",
      "Epoch 25/30\n",
      "100/100 [==============================] - 23s 234ms/step - loss: 0.2942 - acc: 0.8775 - val_loss: 0.2375 - val_acc: 0.8990\n",
      "Epoch 26/30\n",
      "100/100 [==============================] - 21s 208ms/step - loss: 0.2774 - acc: 0.8830 - val_loss: 0.2445 - val_acc: 0.9020\n",
      "Epoch 27/30\n",
      "100/100 [==============================] - 20s 198ms/step - loss: 0.2949 - acc: 0.8745 - val_loss: 0.2403 - val_acc: 0.8990\n",
      "Epoch 28/30\n",
      "100/100 [==============================] - 23s 233ms/step - loss: 0.2816 - acc: 0.8800 - val_loss: 0.2384 - val_acc: 0.9000\n",
      "Epoch 29/30\n",
      "100/100 [==============================] - 21s 212ms/step - loss: 0.2879 - acc: 0.8700 - val_loss: 0.2493 - val_acc: 0.9050\n",
      "Epoch 30/30\n",
      "100/100 [==============================] - 19s 191ms/step - loss: 0.2883 - acc: 0.8725 - val_loss: 0.2429 - val_acc: 0.9030\n"
     ]
    }
   ],
   "source": [
    "history = model.fit_generator(\n",
    "            train_generator,\n",
    "            steps_per_epoch=100,\n",
    "            epochs=EPOCH_30,\n",
    "            validation_data=validation_generator,\n",
    "            validation_steps=50)"
   ]
  },
  {
   "cell_type": "markdown",
   "metadata": {
    "papermill": {
     "duration": 4.56742,
     "end_time": "2020-11-17T10:24:26.298541",
     "exception": false,
     "start_time": "2020-11-17T10:24:21.731121",
     "status": "completed"
    },
    "tags": []
   },
   "source": [
    "Let’s plot the results again. \n",
    "\n",
    "Great, we reached a validation accuracy of about 90%. This is much better than we achieved with the small convnet trained from scratch."
   ]
  },
  {
   "cell_type": "code",
   "execution_count": 48,
   "metadata": {
    "execution": {
     "iopub.execute_input": "2020-11-17T10:24:35.818853Z",
     "iopub.status.busy": "2020-11-17T10:24:35.810946Z",
     "iopub.status.idle": "2020-11-17T10:24:36.182769Z",
     "shell.execute_reply": "2020-11-17T10:24:36.183336Z"
    },
    "papermill": {
     "duration": 5.001112,
     "end_time": "2020-11-17T10:24:36.183492",
     "exception": false,
     "start_time": "2020-11-17T10:24:31.182380",
     "status": "completed"
    },
    "tags": []
   },
   "outputs": [
    {
     "data": {
      "image/png": "[encoded data removed]",
      "text/plain": [
       "<Figure size 432x288 with 1 Axes>"
      ]
     },
     "metadata": {
      "needs_background": "light"
     },
     "output_type": "display_data"
    },
    {
     "data": {
      "image/png": "[encoded data removed]",
      "text/plain": [
       "<Figure size 432x288 with 1 Axes>"
      ]
     },
     "metadata": {
      "needs_background": "light"
     },
     "output_type": "display_data"
    }
   ],
   "source": [
    "# plotting the results\n",
    "acc = history.history['acc']\n",
    "val_acc = history.history['val_acc']\n",
    "loss = history.history['loss']\n",
    "val_loss = history.history['val_loss']\n",
    "\n",
    "epochs = range(1, len(acc) + 1)\n",
    "\n",
    "plt.plot(epochs, acc, 'bo', label='Training acc')\n",
    "plt.plot(epochs, val_acc, 'b', label='Validation acc')\n",
    "plt.title('Training and validation accuracy')\n",
    "plt.legend()\n",
    "\n",
    "plt.figure()\n",
    "plt.plot(epochs, loss, 'bo', label='Training loss')\n",
    "plt.plot(epochs, val_loss, 'b', label='Validation loss')\n",
    "plt.title('Training and validation loss')\n",
    "plt.legend()\n",
    "\n",
    "plt.show()"
   ]
  },
  {
   "cell_type": "code",
   "execution_count": 49,
   "metadata": {
    "execution": {
     "iopub.execute_input": "2020-11-17T10:24:56.315109Z",
     "iopub.status.busy": "2020-11-17T10:24:56.313100Z",
     "iopub.status.idle": "2020-11-17T10:24:56.315831Z",
     "shell.execute_reply": "2020-11-17T10:24:56.316329Z"
    },
    "papermill": {
     "duration": 5.333245,
     "end_time": "2020-11-17T10:24:56.316459",
     "exception": false,
     "start_time": "2020-11-17T10:24:50.983214",
     "status": "completed"
    },
    "tags": []
   },
   "outputs": [],
   "source": [
    "conv_base.trainable = True\n",
    "set_trainable = False\n",
    "\n",
    "for layer in conv_base.layers:\n",
    "    if layer.name == 'block5_conv1':\n",
    "        set_trainable = True\n",
    "    \n",
    "    if set_trainable:\n",
    "        layer.trainable = True\n",
    "    else:\n",
    "        layer.trainable = False"
   ]
  },
  {
   "cell_type": "code",
   "execution_count": 50,
   "metadata": {
    "execution": {
     "iopub.execute_input": "2020-11-17T10:25:15.451833Z",
     "iopub.status.busy": "2020-11-17T10:25:15.450925Z",
     "iopub.status.idle": "2020-11-17T11:01:48.898700Z",
     "shell.execute_reply": "2020-11-17T11:01:48.899346Z"
    },
    "papermill": {
     "duration": 2198.393438,
     "end_time": "2020-11-17T11:01:48.899536",
     "exception": false,
     "start_time": "2020-11-17T10:25:10.506098",
     "status": "completed"
    },
    "tags": []
   },
   "outputs": [
    {
     "name": "stdout",
     "output_type": "stream",
     "text": [
      "Epoch 1/100\n",
      "100/100 [==============================] - 21s 209ms/step - loss: 0.2966 - acc: 0.8725 - val_loss: 0.3031 - val_acc: 0.8810\n",
      "Epoch 2/100\n",
      "100/100 [==============================] - 21s 211ms/step - loss: 0.2703 - acc: 0.8845 - val_loss: 0.2588 - val_acc: 0.8870\n",
      "Epoch 3/100\n",
      "100/100 [==============================] - 21s 210ms/step - loss: 0.2465 - acc: 0.8945 - val_loss: 0.2046 - val_acc: 0.9130\n",
      "Epoch 4/100\n",
      "100/100 [==============================] - 22s 217ms/step - loss: 0.2290 - acc: 0.9085 - val_loss: 0.1962 - val_acc: 0.9250\n",
      "Epoch 5/100\n",
      "100/100 [==============================] - 20s 204ms/step - loss: 0.1986 - acc: 0.9155 - val_loss: 0.2089 - val_acc: 0.9230\n",
      "Epoch 6/100\n",
      "100/100 [==============================] - 20s 196ms/step - loss: 0.1960 - acc: 0.9145 - val_loss: 0.1923 - val_acc: 0.9230\n",
      "Epoch 7/100\n",
      "100/100 [==============================] - 25s 245ms/step - loss: 0.1707 - acc: 0.9235 - val_loss: 0.2468 - val_acc: 0.9110\n",
      "Epoch 8/100\n",
      "100/100 [==============================] - 20s 203ms/step - loss: 0.1839 - acc: 0.9270 - val_loss: 0.1868 - val_acc: 0.9290\n",
      "Epoch 9/100\n",
      "100/100 [==============================] - 19s 194ms/step - loss: 0.1638 - acc: 0.9320 - val_loss: 0.1920 - val_acc: 0.9280\n",
      "Epoch 10/100\n",
      "100/100 [==============================] - 25s 246ms/step - loss: 0.1597 - acc: 0.9460 - val_loss: 0.1891 - val_acc: 0.9250\n",
      "Epoch 11/100\n",
      "100/100 [==============================] - 20s 199ms/step - loss: 0.1492 - acc: 0.9435 - val_loss: 0.1996 - val_acc: 0.9300\n",
      "Epoch 12/100\n",
      "100/100 [==============================] - 20s 198ms/step - loss: 0.1365 - acc: 0.9515 - val_loss: 0.1968 - val_acc: 0.9330\n",
      "Epoch 13/100\n",
      "100/100 [==============================] - 25s 247ms/step - loss: 0.1234 - acc: 0.9555 - val_loss: 0.1928 - val_acc: 0.9350\n",
      "Epoch 14/100\n",
      "100/100 [==============================] - 20s 201ms/step - loss: 0.1357 - acc: 0.9505 - val_loss: 0.1983 - val_acc: 0.9310\n",
      "Epoch 15/100\n",
      "100/100 [==============================] - 20s 198ms/step - loss: 0.1090 - acc: 0.9600 - val_loss: 0.1949 - val_acc: 0.9320\n",
      "Epoch 16/100\n",
      "100/100 [==============================] - 25s 248ms/step - loss: 0.1052 - acc: 0.9615 - val_loss: 0.2022 - val_acc: 0.9270\n",
      "Epoch 17/100\n",
      "100/100 [==============================] - 20s 201ms/step - loss: 0.1165 - acc: 0.9510 - val_loss: 0.1819 - val_acc: 0.9410\n",
      "Epoch 18/100\n",
      "100/100 [==============================] - 20s 196ms/step - loss: 0.0987 - acc: 0.9605 - val_loss: 0.1951 - val_acc: 0.9370\n",
      "Epoch 19/100\n",
      "100/100 [==============================] - 24s 239ms/step - loss: 0.0996 - acc: 0.9655 - val_loss: 0.1807 - val_acc: 0.9320\n",
      "Epoch 20/100\n",
      "100/100 [==============================] - 20s 202ms/step - loss: 0.0989 - acc: 0.9630 - val_loss: 0.2016 - val_acc: 0.9260\n",
      "Epoch 21/100\n",
      "100/100 [==============================] - 20s 201ms/step - loss: 0.0928 - acc: 0.9660 - val_loss: 0.2422 - val_acc: 0.9220\n",
      "Epoch 22/100\n",
      "100/100 [==============================] - 21s 206ms/step - loss: 0.0967 - acc: 0.9655 - val_loss: 0.1737 - val_acc: 0.9380\n",
      "Epoch 23/100\n",
      "100/100 [==============================] - 24s 240ms/step - loss: 0.0795 - acc: 0.9695 - val_loss: 0.2312 - val_acc: 0.9310\n",
      "Epoch 24/100\n",
      "100/100 [==============================] - 20s 204ms/step - loss: 0.0888 - acc: 0.9645 - val_loss: 0.1756 - val_acc: 0.9330\n",
      "Epoch 25/100\n",
      "100/100 [==============================] - 20s 204ms/step - loss: 0.0789 - acc: 0.9695 - val_loss: 0.1792 - val_acc: 0.9370\n",
      "Epoch 26/100\n",
      "100/100 [==============================] - 24s 242ms/step - loss: 0.0767 - acc: 0.9710 - val_loss: 0.2902 - val_acc: 0.9210\n",
      "Epoch 27/100\n",
      "100/100 [==============================] - 21s 205ms/step - loss: 0.0714 - acc: 0.9670 - val_loss: 0.1870 - val_acc: 0.9340\n",
      "Epoch 28/100\n",
      "100/100 [==============================] - 20s 200ms/step - loss: 0.0777 - acc: 0.9720 - val_loss: 0.2171 - val_acc: 0.9290\n",
      "Epoch 29/100\n",
      "100/100 [==============================] - 25s 247ms/step - loss: 0.0807 - acc: 0.9740 - val_loss: 0.2349 - val_acc: 0.9220\n",
      "Epoch 30/100\n",
      "100/100 [==============================] - 20s 202ms/step - loss: 0.0693 - acc: 0.9755 - val_loss: 0.2642 - val_acc: 0.9270\n",
      "Epoch 31/100\n",
      "100/100 [==============================] - 20s 202ms/step - loss: 0.0719 - acc: 0.9780 - val_loss: 0.2268 - val_acc: 0.9290\n",
      "Epoch 32/100\n",
      "100/100 [==============================] - 24s 244ms/step - loss: 0.0672 - acc: 0.9780 - val_loss: 0.1877 - val_acc: 0.9350\n",
      "Epoch 33/100\n",
      "100/100 [==============================] - 19s 194ms/step - loss: 0.0662 - acc: 0.9740 - val_loss: 0.2852 - val_acc: 0.9200\n",
      "Epoch 34/100\n",
      "100/100 [==============================] - 20s 201ms/step - loss: 0.0688 - acc: 0.9780 - val_loss: 0.1830 - val_acc: 0.9340\n",
      "Epoch 35/100\n",
      "100/100 [==============================] - 21s 205ms/step - loss: 0.0537 - acc: 0.9805 - val_loss: 0.1934 - val_acc: 0.9390\n",
      "Epoch 36/100\n",
      "100/100 [==============================] - 24s 240ms/step - loss: 0.0597 - acc: 0.9775 - val_loss: 0.1940 - val_acc: 0.9350\n",
      "Epoch 37/100\n",
      "100/100 [==============================] - 20s 202ms/step - loss: 0.0651 - acc: 0.9765 - val_loss: 0.1947 - val_acc: 0.9440\n",
      "Epoch 38/100\n",
      "100/100 [==============================] - 21s 209ms/step - loss: 0.0630 - acc: 0.9795 - val_loss: 0.1830 - val_acc: 0.9400\n",
      "Epoch 39/100\n",
      "100/100 [==============================] - 24s 242ms/step - loss: 0.0504 - acc: 0.9805 - val_loss: 0.1942 - val_acc: 0.9340\n",
      "Epoch 40/100\n",
      "100/100 [==============================] - 19s 195ms/step - loss: 0.0543 - acc: 0.9775 - val_loss: 0.1911 - val_acc: 0.9350\n",
      "Epoch 41/100\n",
      "100/100 [==============================] - 21s 210ms/step - loss: 0.0419 - acc: 0.9870 - val_loss: 0.2625 - val_acc: 0.9280\n",
      "Epoch 42/100\n",
      "100/100 [==============================] - 25s 247ms/step - loss: 0.0458 - acc: 0.9830 - val_loss: 0.2145 - val_acc: 0.9310\n",
      "Epoch 43/100\n",
      "100/100 [==============================] - 20s 196ms/step - loss: 0.0507 - acc: 0.9805 - val_loss: 0.2297 - val_acc: 0.9320\n",
      "Epoch 44/100\n",
      "100/100 [==============================] - 21s 209ms/step - loss: 0.0673 - acc: 0.9780 - val_loss: 0.1785 - val_acc: 0.9420\n",
      "Epoch 45/100\n",
      "100/100 [==============================] - 25s 249ms/step - loss: 0.0476 - acc: 0.9835 - val_loss: 0.1987 - val_acc: 0.9390\n",
      "Epoch 46/100\n",
      "100/100 [==============================] - 21s 206ms/step - loss: 0.0419 - acc: 0.9850 - val_loss: 0.2267 - val_acc: 0.9410\n",
      "Epoch 47/100\n",
      "100/100 [==============================] - 20s 201ms/step - loss: 0.0449 - acc: 0.9860 - val_loss: 0.2262 - val_acc: 0.9380\n",
      "Epoch 48/100\n",
      "100/100 [==============================] - 20s 198ms/step - loss: 0.0401 - acc: 0.9855 - val_loss: 0.2055 - val_acc: 0.9370\n",
      "Epoch 49/100\n",
      "100/100 [==============================] - 26s 257ms/step - loss: 0.0392 - acc: 0.9860 - val_loss: 0.2191 - val_acc: 0.9360\n",
      "Epoch 50/100\n",
      "100/100 [==============================] - 20s 202ms/step - loss: 0.0446 - acc: 0.9800 - val_loss: 0.2046 - val_acc: 0.9370\n",
      "Epoch 51/100\n",
      "100/100 [==============================] - 20s 198ms/step - loss: 0.0433 - acc: 0.9835 - val_loss: 0.2516 - val_acc: 0.9410\n",
      "Epoch 52/100\n",
      "100/100 [==============================] - 26s 257ms/step - loss: 0.0340 - acc: 0.9875 - val_loss: 0.2801 - val_acc: 0.9330\n",
      "Epoch 53/100\n",
      "100/100 [==============================] - 20s 196ms/step - loss: 0.0392 - acc: 0.9865 - val_loss: 0.1977 - val_acc: 0.9410\n",
      "Epoch 54/100\n",
      "100/100 [==============================] - 20s 199ms/step - loss: 0.0385 - acc: 0.9830 - val_loss: 0.2051 - val_acc: 0.9410\n",
      "Epoch 55/100\n",
      "100/100 [==============================] - 25s 246ms/step - loss: 0.0351 - acc: 0.9870 - val_loss: 0.3305 - val_acc: 0.9280\n",
      "Epoch 56/100\n",
      "100/100 [==============================] - 20s 197ms/step - loss: 0.0390 - acc: 0.9835 - val_loss: 0.2224 - val_acc: 0.9350\n",
      "Epoch 57/100\n",
      "100/100 [==============================] - 21s 213ms/step - loss: 0.0489 - acc: 0.9830 - val_loss: 0.3137 - val_acc: 0.9240\n",
      "Epoch 58/100\n",
      "100/100 [==============================] - 23s 231ms/step - loss: 0.0336 - acc: 0.9885 - val_loss: 0.2180 - val_acc: 0.9270\n",
      "Epoch 59/100\n",
      "100/100 [==============================] - 21s 209ms/step - loss: 0.0358 - acc: 0.9850 - val_loss: 0.1994 - val_acc: 0.9420\n",
      "Epoch 60/100\n",
      "100/100 [==============================] - 21s 213ms/step - loss: 0.0364 - acc: 0.9865 - val_loss: 0.2169 - val_acc: 0.9380\n",
      "Epoch 61/100\n",
      "100/100 [==============================] - 19s 194ms/step - loss: 0.0299 - acc: 0.9875 - val_loss: 0.3228 - val_acc: 0.9140\n",
      "Epoch 62/100\n",
      "100/100 [==============================] - 25s 254ms/step - loss: 0.0355 - acc: 0.9860 - val_loss: 0.2189 - val_acc: 0.9430\n",
      "Epoch 63/100\n",
      "100/100 [==============================] - 20s 205ms/step - loss: 0.0308 - acc: 0.9870 - val_loss: 0.3075 - val_acc: 0.9340\n",
      "Epoch 64/100\n",
      "100/100 [==============================] - 19s 194ms/step - loss: 0.0266 - acc: 0.9905 - val_loss: 0.2572 - val_acc: 0.9410\n",
      "Epoch 65/100\n",
      "100/100 [==============================] - 26s 257ms/step - loss: 0.0333 - acc: 0.9895 - val_loss: 0.4566 - val_acc: 0.9090\n",
      "Epoch 66/100\n",
      "100/100 [==============================] - 21s 207ms/step - loss: 0.0242 - acc: 0.9905 - val_loss: 0.2409 - val_acc: 0.9440\n",
      "Epoch 67/100\n",
      "100/100 [==============================] - 20s 200ms/step - loss: 0.0361 - acc: 0.9850 - val_loss: 0.2501 - val_acc: 0.9260\n",
      "Epoch 68/100\n",
      "100/100 [==============================] - 27s 265ms/step - loss: 0.0350 - acc: 0.9885 - val_loss: 0.3297 - val_acc: 0.9130\n",
      "Epoch 69/100\n",
      "100/100 [==============================] - 20s 204ms/step - loss: 0.0335 - acc: 0.9915 - val_loss: 0.2229 - val_acc: 0.9380\n",
      "Epoch 70/100\n",
      "100/100 [==============================] - 19s 194ms/step - loss: 0.0227 - acc: 0.9920 - val_loss: 0.3844 - val_acc: 0.9210\n",
      "Epoch 71/100\n",
      "100/100 [==============================] - 24s 242ms/step - loss: 0.0206 - acc: 0.9905 - val_loss: 0.3518 - val_acc: 0.9290\n",
      "Epoch 72/100\n",
      "100/100 [==============================] - 22s 224ms/step - loss: 0.0382 - acc: 0.9875 - val_loss: 0.2314 - val_acc: 0.9380\n",
      "Epoch 73/100\n",
      "100/100 [==============================] - 20s 201ms/step - loss: 0.0219 - acc: 0.9920 - val_loss: 0.2432 - val_acc: 0.9380\n",
      "Epoch 74/100\n",
      "100/100 [==============================] - 21s 208ms/step - loss: 0.0170 - acc: 0.9950 - val_loss: 0.2368 - val_acc: 0.9400\n",
      "Epoch 75/100\n",
      "100/100 [==============================] - 26s 262ms/step - loss: 0.0293 - acc: 0.9895 - val_loss: 0.2668 - val_acc: 0.9380\n",
      "Epoch 76/100\n",
      "100/100 [==============================] - 21s 210ms/step - loss: 0.0203 - acc: 0.9935 - val_loss: 0.2414 - val_acc: 0.9320\n",
      "Epoch 77/100\n",
      "100/100 [==============================] - 19s 194ms/step - loss: 0.0261 - acc: 0.9900 - val_loss: 0.2387 - val_acc: 0.9420\n",
      "Epoch 78/100\n",
      "100/100 [==============================] - 26s 262ms/step - loss: 0.0252 - acc: 0.9915 - val_loss: 0.2420 - val_acc: 0.9380\n",
      "Epoch 79/100\n",
      "100/100 [==============================] - 21s 212ms/step - loss: 0.0191 - acc: 0.9925 - val_loss: 0.2261 - val_acc: 0.9460\n",
      "Epoch 80/100\n",
      "100/100 [==============================] - 20s 197ms/step - loss: 0.0280 - acc: 0.9895 - val_loss: 0.2340 - val_acc: 0.9380\n",
      "Epoch 81/100\n",
      "100/100 [==============================] - 26s 264ms/step - loss: 0.0181 - acc: 0.9955 - val_loss: 0.2358 - val_acc: 0.9410\n",
      "Epoch 82/100\n",
      "100/100 [==============================] - 21s 206ms/step - loss: 0.0190 - acc: 0.9930 - val_loss: 0.3387 - val_acc: 0.9310\n",
      "Epoch 83/100\n",
      "100/100 [==============================] - 19s 194ms/step - loss: 0.0246 - acc: 0.9915 - val_loss: 0.2404 - val_acc: 0.9430\n",
      "Epoch 84/100\n",
      "100/100 [==============================] - 21s 209ms/step - loss: 0.0204 - acc: 0.9930 - val_loss: 0.3043 - val_acc: 0.9270\n",
      "Epoch 85/100\n",
      "100/100 [==============================] - 26s 260ms/step - loss: 0.0237 - acc: 0.9915 - val_loss: 0.4665 - val_acc: 0.9140\n",
      "Epoch 86/100\n",
      "100/100 [==============================] - 20s 202ms/step - loss: 0.0283 - acc: 0.9910 - val_loss: 0.2376 - val_acc: 0.9420\n",
      "Epoch 87/100\n",
      "100/100 [==============================] - 20s 205ms/step - loss: 0.0232 - acc: 0.9935 - val_loss: 0.3889 - val_acc: 0.9240\n",
      "Epoch 88/100\n",
      "100/100 [==============================] - 26s 259ms/step - loss: 0.0206 - acc: 0.9940 - val_loss: 0.3027 - val_acc: 0.9330\n",
      "Epoch 89/100\n",
      "100/100 [==============================] - 20s 202ms/step - loss: 0.0167 - acc: 0.9955 - val_loss: 0.2323 - val_acc: 0.9440\n",
      "Epoch 90/100\n",
      "100/100 [==============================] - 20s 200ms/step - loss: 0.0119 - acc: 0.9965 - val_loss: 0.2848 - val_acc: 0.9380\n",
      "Epoch 91/100\n",
      "100/100 [==============================] - 25s 250ms/step - loss: 0.0182 - acc: 0.9950 - val_loss: 0.2720 - val_acc: 0.9420\n",
      "Epoch 92/100\n",
      "100/100 [==============================] - 21s 213ms/step - loss: 0.0204 - acc: 0.9930 - val_loss: 0.2586 - val_acc: 0.9360\n",
      "Epoch 93/100\n",
      "100/100 [==============================] - 20s 198ms/step - loss: 0.0245 - acc: 0.9920 - val_loss: 0.3058 - val_acc: 0.9430\n",
      "Epoch 94/100\n",
      "100/100 [==============================] - 20s 202ms/step - loss: 0.0197 - acc: 0.9925 - val_loss: 0.2734 - val_acc: 0.9390\n",
      "Epoch 95/100\n",
      "100/100 [==============================] - 27s 267ms/step - loss: 0.0154 - acc: 0.9955 - val_loss: 0.2565 - val_acc: 0.9430\n",
      "Epoch 96/100\n",
      "100/100 [==============================] - 20s 196ms/step - loss: 0.0183 - acc: 0.9940 - val_loss: 0.2829 - val_acc: 0.9410\n",
      "Epoch 97/100\n",
      "100/100 [==============================] - 20s 201ms/step - loss: 0.0196 - acc: 0.9940 - val_loss: 0.2672 - val_acc: 0.9430\n",
      "Epoch 98/100\n",
      "100/100 [==============================] - 27s 273ms/step - loss: 0.0258 - acc: 0.9935 - val_loss: 0.2544 - val_acc: 0.9420\n",
      "Epoch 99/100\n",
      "100/100 [==============================] - 20s 201ms/step - loss: 0.0113 - acc: 0.9970 - val_loss: 0.6613 - val_acc: 0.9080\n",
      "Epoch 100/100\n",
      "100/100 [==============================] - 21s 208ms/step - loss: 0.0208 - acc: 0.9905 - val_loss: 0.2905 - val_acc: 0.9380\n"
     ]
    }
   ],
   "source": [
    "model.compile(loss='binary_crossentropy',optimizer=optimizers.RMSprop(lr=1e-5),metrics=['acc'])\n",
    "\n",
    "history = model.fit_generator(train_generator,steps_per_epoch=100,epochs=EPOCH_100,validation_data=validation_generator,validation_steps=50)"
   ]
  },
  {
   "cell_type": "code",
   "execution_count": 51,
   "metadata": {
    "execution": {
     "iopub.execute_input": "2020-11-17T11:02:06.584621Z",
     "iopub.status.busy": "2020-11-17T11:02:06.582547Z",
     "iopub.status.idle": "2020-11-17T11:02:06.921837Z",
     "shell.execute_reply": "2020-11-17T11:02:06.922342Z"
    },
    "papermill": {
     "duration": 9.386096,
     "end_time": "2020-11-17T11:02:06.922487",
     "exception": false,
     "start_time": "2020-11-17T11:01:57.536391",
     "status": "completed"
    },
    "tags": []
   },
   "outputs": [
    {
     "data": {
      "image/png": "[encoded data removed]",
      "text/plain": [
       "<Figure size 432x288 with 1 Axes>"
      ]
     },
     "metadata": {
      "needs_background": "light"
     },
     "output_type": "display_data"
    },
    {
     "data": {
      "image/png": "[encoded data removed]",
      "text/plain": [
       "<Figure size 432x288 with 1 Axes>"
      ]
     },
     "metadata": {
      "needs_background": "light"
     },
     "output_type": "display_data"
    }
   ],
   "source": [
    "# plotting the results\n",
    "acc = history.history['acc']\n",
    "val_acc = history.history['val_acc']\n",
    "loss = history.history['loss']\n",
    "val_loss = history.history['val_loss']\n",
    "\n",
    "epochs = range(1, len(acc) + 1)\n",
    "\n",
    "plt.plot(epochs, acc, 'bo', label='Training acc')\n",
    "plt.plot(epochs, val_acc, 'b', label='Validation acc')\n",
    "plt.title('Training and validation accuracy')\n",
    "plt.legend()\n",
    "\n",
    "plt.figure()\n",
    "plt.plot(epochs, loss, 'bo', label='Training loss')\n",
    "plt.plot(epochs, val_loss, 'b', label='Validation loss')\n",
    "plt.title('Training and validation loss')\n",
    "plt.legend()\n",
    "\n",
    "plt.show()"
   ]
  },
  {
   "cell_type": "markdown",
   "metadata": {
    "papermill": {
     "duration": 8.264584,
     "end_time": "2020-11-17T11:02:23.723623",
     "exception": false,
     "start_time": "2020-11-17T11:02:15.459039",
     "status": "completed"
    },
    "tags": []
   },
   "source": [
    "We have 93% accuracy now, which is way better than the model that we build from scratch.\n",
    "\n",
    "In the next version of this notebook, we will make predictions on the test dataset!"
   ]
  }
 ],
 "metadata": {
  "kernelspec": {
   "display_name": "Python 3 (ipykernel)",
   "language": "python",
   "name": "python3"
  },
  "language_info": {
   "codemirror_mode": {
    "name": "ipython",
    "version": 3
   },
   "file_extension": ".py",
   "mimetype": "text/x-python",
   "name": "python",
   "nbconvert_exporter": "python",
   "pygments_lexer": "ipython3",
   "version": "3.11.1"
  },
  "papermill": {
   "duration": 5538.677416,
   "end_time": "2020-11-17T11:02:34.259437",
   "environment_variables": {},
   "exception": null,
   "input_path": "__notebook__.ipynb",
   "output_path": "__notebook__.ipynb",
   "parameters": {},
   "start_time": "2020-11-17T09:30:15.582021",
   "version": "2.1.0"
  }
 },
 "nbformat": 4,
 "nbformat_minor": 4
}
