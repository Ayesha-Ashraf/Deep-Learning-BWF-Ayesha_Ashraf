{
 "cells": [
  {
   "cell_type": "markdown",
   "metadata": {
    "papermill": {
     "duration": 0.056262,
     "end_time": "2020-11-17T09:30:20.301057",
     "exception": false,
     "start_time": "2020-11-17T09:30:20.244795",
     "status": "completed"
    },
    "tags": []
   },
   "source": [
    "# How to build models with limited amount of data"
   ]
  },
  {
   "cell_type": "code",
   "execution_count": 1,
   "metadata": {
    "execution": {
     "iopub.execute_input": "2020-11-17T10:09:46.911353Z",
     "iopub.status.busy": "2020-11-17T10:09:46.910444Z",
     "iopub.status.idle": "2020-11-17T10:09:47.655501Z",
     "shell.execute_reply": "2020-11-17T10:09:47.654758Z"
    },
    "papermill": {
     "duration": 4.429456,
     "end_time": "2020-11-17T10:09:47.655613",
     "exception": false,
     "start_time": "2020-11-17T10:09:43.226157",
     "status": "completed"
    },
    "tags": []
   },
   "outputs": [],
   "source": [
    "# lets import VGG16 pre-trained model\n",
    "from keras.applications import VGG16\n",
    "\n",
    "conv_base = VGG16(weights='imagenet',include_top=False,input_shape=(150, 150, 3))"
   ]
  },
  {
   "cell_type": "code",
   "execution_count": 2,
   "metadata": {
    "execution": {
     "iopub.execute_input": "2020-11-17T10:10:02.824295Z",
     "iopub.status.busy": "2020-11-17T10:10:02.823279Z",
     "iopub.status.idle": "2020-11-17T10:10:02.829771Z",
     "shell.execute_reply": "2020-11-17T10:10:02.825146Z"
    },
    "papermill": {
     "duration": 3.660612,
     "end_time": "2020-11-17T10:10:02.829934",
     "exception": false,
     "start_time": "2020-11-17T10:09:59.169322",
     "status": "completed"
    },
    "tags": []
   },
   "outputs": [],
   "source": [
    "conv_base.summary()"
   ]
  },
  {
   "cell_type": "markdown",
   "metadata": {
    "papermill": {
     "duration": 3.480569,
     "end_time": "2020-11-17T10:10:16.765745",
     "exception": false,
     "start_time": "2020-11-17T10:10:13.285176",
     "status": "completed"
    },
    "tags": []
   },
   "source": [
    "#### 3.3.2) FAST FEATURE EXTRACTION WITHOUT DATA AUGMENTATION\n",
    "\n",
    "We’ll start by running instances of the previously introduced ImageDataGenerator to extract images as Numpy arrays as well as their labels. We’ll extract features from these images by calling the predict method of the conv_base model."
   ]
  },
  {
   "cell_type": "code",
   "execution_count": 3,
   "metadata": {
    "execution": {
     "iopub.execute_input": "2020-11-17T10:10:23.707943Z",
     "iopub.status.busy": "2020-11-17T10:10:23.707078Z",
     "iopub.status.idle": "2020-11-17T10:10:23.711159Z",
     "shell.execute_reply": "2020-11-17T10:10:23.710637Z"
    },
    "papermill": {
     "duration": 3.619976,
     "end_time": "2020-11-17T10:10:23.711283",
     "exception": false,
     "start_time": "2020-11-17T10:10:20.091307",
     "status": "completed"
    },
    "tags": []
   },
   "outputs": [],
   "source": [
    "#base_dir = '/Users/fchollet/Downloads/cats_and_dogs_small'\n",
    "#train_dir = os.path.join(base_dir, 'train')\n",
    "#validation_dir = os.path.join(base_dir, 'validation')\n",
    "#test_dir = os.path.join(base_dir, 'test')\n",
    "\n",
    "datagen = ImageDataGenerator(rescale=1./255)\n",
    "batch_size = 20\n",
    "\n",
    "def extract_features(directory, sample_count):\n",
    "    features = np.zeros(shape=(sample_count, 4, 4, 512))\n",
    "    labels = np.zeros(shape=(sample_count))\n",
    "    generator = datagen.flow_from_directory(directory,target_size=(150, 150),batch_size=batch_size,class_mode='binary')\n",
    "    \n",
    "    i=0\n",
    "    for inputs_batch, labels_batch in generator:\n",
    "        features_batch = conv_base.predict(inputs_batch)\n",
    "        features[i * batch_size : (i + 1) * batch_size] = features_batch\n",
    "        labels[i * batch_size : (i + 1) * batch_size] = labels_batch\n",
    "        i += 1\n",
    "        if i * batch_size >= sample_count:\n",
    "            break\n",
    "    return features, labels"
   ]
  },
  {
   "cell_type": "code",
   "execution_count": 4,
   "metadata": {
    "execution": {
     "iopub.execute_input": "2020-11-17T10:10:30.879284Z",
     "iopub.status.busy": "2020-11-17T10:10:30.878612Z",
     "iopub.status.idle": "2020-11-17T10:10:49.328907Z",
     "shell.execute_reply": "2020-11-17T10:10:49.328078Z"
    },
    "papermill": {
     "duration": 21.803116,
     "end_time": "2020-11-17T10:10:49.329058",
     "exception": false,
     "start_time": "2020-11-17T10:10:27.525942",
     "status": "completed"
    },
    "tags": []
   },
   "outputs": [],
   "source": [
    "train_features, train_labels = extract_features(train_dir, 2000)\n",
    "validation_features, validation_labels = extract_features(validation_dir, 1000)"
   ]
  },
  {
   "cell_type": "code",
   "execution_count": 5,
   "metadata": {
    "execution": {
     "iopub.execute_input": "2020-11-17T10:11:03.810785Z",
     "iopub.status.busy": "2020-11-17T10:11:03.808822Z",
     "iopub.status.idle": "2020-11-17T10:11:03.811461Z",
     "shell.execute_reply": "2020-11-17T10:11:03.811952Z"
    },
    "papermill": {
     "duration": 3.499171,
     "end_time": "2020-11-17T10:11:03.812087",
     "exception": false,
     "start_time": "2020-11-17T10:11:00.312916",
     "status": "completed"
    },
    "tags": []
   },
   "outputs": [],
   "source": [
    "train_features = np.reshape(train_features, (2000, 4*4* 512))\n",
    "validation_features = np.reshape(validation_features, (1000, 4*4* 512))"
   ]
  },
  {
   "cell_type": "markdown",
   "metadata": {
    "papermill": {
     "duration": 3.3124,
     "end_time": "2020-11-17T10:11:10.696366",
     "exception": false,
     "start_time": "2020-11-17T10:11:07.383966",
     "status": "completed"
    },
    "tags": []
   },
   "source": [
    "At this point, we can define our densely connected classifier (note the use of dropout for regularization) and train it on the data and labels that we just recorded."
   ]
  },
  {
   "cell_type": "code",
   "execution_count": 6,
   "metadata": {
    "execution": {
     "iopub.execute_input": "2020-11-17T10:11:17.567235Z",
     "iopub.status.busy": "2020-11-17T10:11:17.566102Z",
     "iopub.status.idle": "2020-11-17T10:11:17.597091Z",
     "shell.execute_reply": "2020-11-17T10:11:17.596262Z"
    },
    "papermill": {
     "duration": 3.592194,
     "end_time": "2020-11-17T10:11:17.597217",
     "exception": false,
     "start_time": "2020-11-17T10:11:14.005023",
     "status": "completed"
    },
    "tags": []
   },
   "outputs": [],
   "source": [
    "# Densly Connected Classifier\n",
    "model = keras.models.Sequential()\n",
    "model.add(keras.layers.Dense(256, activation='relu', input_dim=4 * 4 * 512))\n",
    "model.add(keras.layers.Dropout(0.5))\n",
    "model.add(keras.layers.Dense(1, activation='sigmoid'))"
   ]
  },
  {
   "cell_type": "code",
   "execution_count": 7,
   "metadata": {
    "execution": {
     "iopub.execute_input": "2020-11-17T10:11:24.253518Z",
     "iopub.status.busy": "2020-11-17T10:11:24.252549Z",
     "iopub.status.idle": "2020-11-17T10:11:24.258606Z",
     "shell.execute_reply": "2020-11-17T10:11:24.257859Z"
    },
    "papermill": {
     "duration": 3.317039,
     "end_time": "2020-11-17T10:11:24.258747",
     "exception": false,
     "start_time": "2020-11-17T10:11:20.941708",
     "status": "completed"
    },
    "tags": []
   },
   "outputs": [],
   "source": [
    "# compile the model\n",
    "model.compile(optimizer=optimizers.RMSprop(lr=2e-5),\n",
    "loss='binary_crossentropy',\n",
    "metrics=['acc'])"
   ]
  },
  {
   "cell_type": "code",
   "execution_count": 8,
   "metadata": {
    "execution": {
     "iopub.execute_input": "2020-11-17T10:11:31.717878Z",
     "iopub.status.busy": "2020-11-17T10:11:31.716661Z",
     "iopub.status.idle": "2020-11-17T10:11:42.842464Z",
     "shell.execute_reply": "2020-11-17T10:11:42.841411Z"
    },
    "papermill": {
     "duration": 14.978236,
     "end_time": "2020-11-17T10:11:42.842583",
     "exception": false,
     "start_time": "2020-11-17T10:11:27.864347",
     "status": "completed"
    },
    "tags": []
   },
   "outputs": [],
   "source": [
    "# fit the model on the features extracted\n",
    "history = model.fit(train_features, train_labels,epochs=EPOCH_30,batch_size=20,validation_data=(validation_features, validation_labels))"
   ]
  },
  {
   "cell_type": "markdown",
   "metadata": {
    "papermill": {
     "duration": 4.086867,
     "end_time": "2020-11-17T10:11:50.688200",
     "exception": false,
     "start_time": "2020-11-17T10:11:46.601333",
     "status": "completed"
    },
    "tags": []
   },
   "source": [
    "Training is very fast, because we only have to deal with two Dense layers"
   ]
  },
  {
   "cell_type": "code",
   "execution_count": 9,
   "metadata": {
    "execution": {
     "iopub.execute_input": "2020-11-17T10:11:57.968390Z",
     "iopub.status.busy": "2020-11-17T10:11:57.967297Z",
     "iopub.status.idle": "2020-11-17T10:11:58.354581Z",
     "shell.execute_reply": "2020-11-17T10:11:58.353977Z"
    },
    "papermill": {
     "duration": 3.995797,
     "end_time": "2020-11-17T10:11:58.354701",
     "exception": false,
     "start_time": "2020-11-17T10:11:54.358904",
     "status": "completed"
    },
    "tags": []
   },
   "outputs": [],
   "source": [
    "# plotting the results\n",
    "acc = history.history['acc']\n",
    "val_acc = history.history['val_acc']\n",
    "loss = history.history['loss']\n",
    "val_loss = history.history['val_loss']\n",
    "\n",
    "epochs = range(1, len(acc) + 1)\n",
    "\n",
    "plt.plot(epochs, acc, 'bo', label='Training acc')\n",
    "plt.plot(epochs, val_acc, 'b', label='Validation acc')\n",
    "plt.title('Training and validation accuracy')\n",
    "plt.legend()\n",
    "\n",
    "plt.figure()\n",
    "plt.plot(epochs, loss, 'bo', label='Training loss')\n",
    "plt.plot(epochs, val_loss, 'b', label='Validation loss')\n",
    "plt.title('Training and validation loss')\n",
    "plt.legend()\n",
    "\n",
    "plt.show()"
   ]
  },
  {
   "cell_type": "markdown",
   "metadata": {
    "papermill": {
     "duration": 3.641846,
     "end_time": "2020-11-17T10:12:13.267599",
     "exception": false,
     "start_time": "2020-11-17T10:12:09.625753",
     "status": "completed"
    },
    "tags": []
   },
   "source": [
    "#### 3.3.2) FEATURE EXTRACTION WITH DATA AUGMENTATION\n",
    "\n",
    "Now, let’s review the second technique we mentioned for doing feature extraction,which is much slower and more expensive, but which allows us to use data augmentation during training: extending the conv_base model and running it end to end on the inputs.\n",
    "\n",
    "Because models behave just like layers, you can add a model (like conv_base) to a Sequential model just like you would add a layer."
   ]
  },
  {
   "cell_type": "code",
   "execution_count": 10,
   "metadata": {
    "execution": {
     "iopub.execute_input": "2020-11-17T10:12:20.343503Z",
     "iopub.status.busy": "2020-11-17T10:12:20.342524Z",
     "iopub.status.idle": "2020-11-17T10:12:20.408749Z",
     "shell.execute_reply": "2020-11-17T10:12:20.407963Z"
    },
    "papermill": {
     "duration": 3.552229,
     "end_time": "2020-11-17T10:12:20.408853",
     "exception": false,
     "start_time": "2020-11-17T10:12:16.856624",
     "status": "completed"
    },
    "tags": []
   },
   "outputs": [],
   "source": [
    "#  Adding a densely connected classifier on top of the convolutional base\n",
    "model = keras.models.Sequential()\n",
    "model.add(conv_base) # adding pre-trained conv base model\n",
    "model.add(keras.layers.Flatten())\n",
    "model.add(keras.layers.Dense(256, activation='relu'))\n",
    "model.add(keras.layers.Dense(1, activation='sigmoid'))"
   ]
  },
  {
   "cell_type": "code",
   "execution_count": 11,
   "metadata": {
    "execution": {
     "iopub.execute_input": "2020-11-17T10:12:27.747985Z",
     "iopub.status.busy": "2020-11-17T10:12:27.747092Z",
     "iopub.status.idle": "2020-11-17T10:12:27.751874Z",
     "shell.execute_reply": "2020-11-17T10:12:27.752794Z"
    },
    "papermill": {
     "duration": 3.587181,
     "end_time": "2020-11-17T10:12:27.752993",
     "exception": false,
     "start_time": "2020-11-17T10:12:24.165812",
     "status": "completed"
    },
    "tags": []
   },
   "outputs": [],
   "source": [
    "model.summary()"
   ]
  },
  {
   "cell_type": "code",
   "execution_count": null,
   "metadata": {
    "execution": {
     "iopub.execute_input": "2020-11-17T10:12:42.419438Z",
     "iopub.status.busy": "2020-11-17T10:12:42.416715Z",
     "iopub.status.idle": "2020-11-17T10:12:42.422458Z",
     "shell.execute_reply": "2020-11-17T10:12:42.421832Z"
    },
    "papermill": {
     "duration": 3.501171,
     "end_time": "2020-11-17T10:12:42.422598",
     "exception": false,
     "start_time": "2020-11-17T10:12:38.921427",
     "status": "completed"
    },
    "tags": []
   },
   "outputs": [],
   "source": [
    " print('This is the number of trainable weights before freezing the conv base:', len(model.trainable_weights))"
   ]
  },
  {
   "cell_type": "code",
   "execution_count": null,
   "metadata": {
    "execution": {
     "iopub.execute_input": "2020-11-17T10:12:50.299876Z",
     "iopub.status.busy": "2020-11-17T10:12:50.297990Z",
     "iopub.status.idle": "2020-11-17T10:12:50.300633Z",
     "shell.execute_reply": "2020-11-17T10:12:50.301118Z"
    },
    "papermill": {
     "duration": 3.710553,
     "end_time": "2020-11-17T10:12:50.301265",
     "exception": false,
     "start_time": "2020-11-17T10:12:46.590712",
     "status": "completed"
    },
    "tags": []
   },
   "outputs": [],
   "source": [
    "# freezing the layers of pre-trained model\n",
    "conv_base.trainable = False"
   ]
  },
  {
   "cell_type": "code",
   "execution_count": null,
   "metadata": {
    "execution": {
     "iopub.execute_input": "2020-11-17T10:12:57.843155Z",
     "iopub.status.busy": "2020-11-17T10:12:57.841046Z",
     "iopub.status.idle": "2020-11-17T10:12:57.846793Z",
     "shell.execute_reply": "2020-11-17T10:12:57.846012Z"
    },
    "papermill": {
     "duration": 3.973251,
     "end_time": "2020-11-17T10:12:57.846934",
     "exception": false,
     "start_time": "2020-11-17T10:12:53.873683",
     "status": "completed"
    },
    "tags": []
   },
   "outputs": [],
   "source": [
    "print('This is the number of trainable weights after freezing the conv base:', len(model.trainable_weights))"
   ]
  },
  {
   "cell_type": "code",
   "execution_count": null,
   "metadata": {
    "execution": {
     "iopub.execute_input": "2020-11-17T10:13:12.921161Z",
     "iopub.status.busy": "2020-11-17T10:13:12.920416Z",
     "iopub.status.idle": "2020-11-17T10:13:13.235462Z",
     "shell.execute_reply": "2020-11-17T10:13:13.234362Z"
    },
    "papermill": {
     "duration": 3.93196,
     "end_time": "2020-11-17T10:13:13.235575",
     "exception": false,
     "start_time": "2020-11-17T10:13:09.303615",
     "status": "completed"
    },
    "tags": []
   },
   "outputs": [],
   "source": [
    "#  Training the model end to end with a frozen convolutional base\n",
    "train_datagen = ImageDataGenerator(\n",
    "                rescale=1./255,\n",
    "                rotation_range=40,\n",
    "                width_shift_range=0.2,\n",
    "                height_shift_range=0.2,\n",
    "                shear_range=0.2,\n",
    "                zoom_range=0.2,\n",
    "                horizontal_flip=True,\n",
    "                fill_mode='nearest')\n",
    "\n",
    "test_datagen = ImageDataGenerator(rescale=1./255)\n",
    "\n",
    "train_generator = train_datagen.flow_from_directory(\n",
    "                    train_dir,\n",
    "                    target_size=(150, 150),\n",
    "                    batch_size=20,\n",
    "                    class_mode='binary')\n",
    "\n",
    "validation_generator = test_datagen.flow_from_directory(validation_dir,target_size=(150, 150),batch_size=20,class_mode='binary')"
   ]
  },
  {
   "cell_type": "code",
   "execution_count": null,
   "metadata": {
    "execution": {
     "iopub.execute_input": "2020-11-17T10:13:20.490559Z",
     "iopub.status.busy": "2020-11-17T10:13:20.489219Z",
     "iopub.status.idle": "2020-11-17T10:13:20.495743Z",
     "shell.execute_reply": "2020-11-17T10:13:20.495135Z"
    },
    "papermill": {
     "duration": 3.742134,
     "end_time": "2020-11-17T10:13:20.495864",
     "exception": false,
     "start_time": "2020-11-17T10:13:16.753730",
     "status": "completed"
    },
    "tags": []
   },
   "outputs": [],
   "source": [
    "model.compile(loss='binary_crossentropy',optimizer=optimizers.RMSprop(lr=2e-5),metrics=['acc'])"
   ]
  },
  {
   "cell_type": "code",
   "execution_count": null,
   "metadata": {
    "execution": {
     "iopub.execute_input": "2020-11-17T10:13:27.571391Z",
     "iopub.status.busy": "2020-11-17T10:13:27.570427Z",
     "iopub.status.idle": "2020-11-17T10:24:16.577567Z",
     "shell.execute_reply": "2020-11-17T10:24:16.576881Z"
    },
    "papermill": {
     "duration": 652.613933,
     "end_time": "2020-11-17T10:24:16.577682",
     "exception": false,
     "start_time": "2020-11-17T10:13:23.963749",
     "status": "completed"
    },
    "tags": []
   },
   "outputs": [],
   "source": [
    "history = model.fit_generator(\n",
    "            train_generator,\n",
    "            steps_per_epoch=100,\n",
    "            epochs=EPOCH_30,\n",
    "            validation_data=validation_generator,\n",
    "            validation_steps=50)"
   ]
  },
  {
   "cell_type": "markdown",
   "metadata": {
    "papermill": {
     "duration": 4.56742,
     "end_time": "2020-11-17T10:24:26.298541",
     "exception": false,
     "start_time": "2020-11-17T10:24:21.731121",
     "status": "completed"
    },
    "tags": []
   },
   "source": [
    "Let’s plot the results again. \n",
    "\n",
    "Great, we reached a validation accuracy of about 90%. This is much better than we achieved with the small convnet trained from scratch."
   ]
  },
  {
   "cell_type": "code",
   "execution_count": null,
   "metadata": {
    "execution": {
     "iopub.execute_input": "2020-11-17T10:24:35.818853Z",
     "iopub.status.busy": "2020-11-17T10:24:35.810946Z",
     "iopub.status.idle": "2020-11-17T10:24:36.182769Z",
     "shell.execute_reply": "2020-11-17T10:24:36.183336Z"
    },
    "papermill": {
     "duration": 5.001112,
     "end_time": "2020-11-17T10:24:36.183492",
     "exception": false,
     "start_time": "2020-11-17T10:24:31.182380",
     "status": "completed"
    },
    "tags": []
   },
   "outputs": [],
   "source": [
    "# plotting the results\n",
    "acc = history.history['acc']\n",
    "val_acc = history.history['val_acc']\n",
    "loss = history.history['loss']\n",
    "val_loss = history.history['val_loss']\n",
    "\n",
    "epochs = range(1, len(acc) + 1)\n",
    "\n",
    "plt.plot(epochs, acc, 'bo', label='Training acc')\n",
    "plt.plot(epochs, val_acc, 'b', label='Validation acc')\n",
    "plt.title('Training and validation accuracy')\n",
    "plt.legend()\n",
    "\n",
    "plt.figure()\n",
    "plt.plot(epochs, loss, 'bo', label='Training loss')\n",
    "plt.plot(epochs, val_loss, 'b', label='Validation loss')\n",
    "plt.title('Training and validation loss')\n",
    "plt.legend()\n",
    "\n",
    "plt.show()"
   ]
  },
  {
   "cell_type": "code",
   "execution_count": null,
   "metadata": {
    "execution": {
     "iopub.execute_input": "2020-11-17T10:24:56.315109Z",
     "iopub.status.busy": "2020-11-17T10:24:56.313100Z",
     "iopub.status.idle": "2020-11-17T10:24:56.315831Z",
     "shell.execute_reply": "2020-11-17T10:24:56.316329Z"
    },
    "papermill": {
     "duration": 5.333245,
     "end_time": "2020-11-17T10:24:56.316459",
     "exception": false,
     "start_time": "2020-11-17T10:24:50.983214",
     "status": "completed"
    },
    "tags": []
   },
   "outputs": [],
   "source": [
    "conv_base.trainable = True\n",
    "set_trainable = False\n",
    "\n",
    "for layer in conv_base.layers:\n",
    "    if layer.name == 'block5_conv1':\n",
    "        set_trainable = True\n",
    "    \n",
    "    if set_trainable:\n",
    "        layer.trainable = True\n",
    "    else:\n",
    "        layer.trainable = False"
   ]
  },
  {
   "cell_type": "markdown",
   "metadata": {
    "papermill": {
     "duration": 4.816769,
     "end_time": "2020-11-17T10:25:05.804863",
     "exception": false,
     "start_time": "2020-11-17T10:25:00.988094",
     "status": "completed"
    },
    "tags": []
   },
   "source": [
    "Now we can begin fine-tuning the network. \n",
    "\n",
    "We’ll do this with the RMSProp optimizer, using a very low learning rate. The reason for using a low learning rate is that\n",
    "we want to limit the magnitude of the modifications we make to the representations of the three layers we’re fine-tuning. \n",
    "\n",
    "Updates that are too large may harm these representations."
   ]
  },
  {
   "cell_type": "code",
   "execution_count": null,
   "metadata": {
    "execution": {
     "iopub.execute_input": "2020-11-17T10:25:15.451833Z",
     "iopub.status.busy": "2020-11-17T10:25:15.450925Z",
     "iopub.status.idle": "2020-11-17T11:01:48.898700Z",
     "shell.execute_reply": "2020-11-17T11:01:48.899346Z"
    },
    "papermill": {
     "duration": 2198.393438,
     "end_time": "2020-11-17T11:01:48.899536",
     "exception": false,
     "start_time": "2020-11-17T10:25:10.506098",
     "status": "completed"
    },
    "tags": []
   },
   "outputs": [],
   "source": [
    "model.compile(loss='binary_crossentropy',optimizer=optimizers.RMSprop(lr=1e-5),metrics=['acc'])\n",
    "\n",
    "history = model.fit_generator(train_generator,steps_per_epoch=100,epochs=EPOCH_100,validation_data=validation_generator,validation_steps=50)"
   ]
  },
  {
   "cell_type": "code",
   "execution_count": null,
   "metadata": {
    "execution": {
     "iopub.execute_input": "2020-11-17T11:02:06.584621Z",
     "iopub.status.busy": "2020-11-17T11:02:06.582547Z",
     "iopub.status.idle": "2020-11-17T11:02:06.921837Z",
     "shell.execute_reply": "2020-11-17T11:02:06.922342Z"
    },
    "papermill": {
     "duration": 9.386096,
     "end_time": "2020-11-17T11:02:06.922487",
     "exception": false,
     "start_time": "2020-11-17T11:01:57.536391",
     "status": "completed"
    },
    "tags": []
   },
   "outputs": [],
   "source": [
    "# plotting the results\n",
    "acc = history.history['acc']\n",
    "val_acc = history.history['val_acc']\n",
    "loss = history.history['loss']\n",
    "val_loss = history.history['val_loss']\n",
    "\n",
    "epochs = range(1, len(acc) + 1)\n",
    "\n",
    "plt.plot(epochs, acc, 'bo', label='Training acc')\n",
    "plt.plot(epochs, val_acc, 'b', label='Validation acc')\n",
    "plt.title('Training and validation accuracy')\n",
    "plt.legend()\n",
    "\n",
    "plt.figure()\n",
    "plt.plot(epochs, loss, 'bo', label='Training loss')\n",
    "plt.plot(epochs, val_loss, 'b', label='Validation loss')\n",
    "plt.title('Training and validation loss')\n",
    "plt.legend()\n",
    "\n",
    "plt.show()"
   ]
  },
  {
   "cell_type": "markdown",
   "metadata": {
    "papermill": {
     "duration": 8.264584,
     "end_time": "2020-11-17T11:02:23.723623",
     "exception": false,
     "start_time": "2020-11-17T11:02:15.459039",
     "status": "completed"
    },
    "tags": []
   },
   "source": [
    "We have 93% accuracy now, which is way better than the model that we build from scratch.\n"
   ]
  },
  {
   "cell_type": "code",
   "execution_count": null,
   "metadata": {},
   "outputs": [],
   "source": []
  },
  {
   "cell_type": "code",
   "execution_count": null,
   "metadata": {},
   "outputs": [],
   "source": []
  }
 ],
 "metadata": {
  "kernelspec": {
   "display_name": "Python 3 (ipykernel)",
   "language": "python",
   "name": "python3"
  },
  "language_info": {
   "codemirror_mode": {
    "name": "ipython",
    "version": 3
   },
   "file_extension": ".py",
   "mimetype": "text/x-python",
   "name": "python",
   "nbconvert_exporter": "python",
   "pygments_lexer": "ipython3",
   "version": "3.11.1"
  },
  "papermill": {
   "duration": 5538.677416,
   "end_time": "2020-11-17T11:02:34.259437",
   "environment_variables": {},
   "exception": null,
   "input_path": "__notebook__.ipynb",
   "output_path": "__notebook__.ipynb",
   "parameters": {},
   "start_time": "2020-11-17T09:30:15.582021",
   "version": "2.1.0"
  }
 },
 "nbformat": 4,
 "nbformat_minor": 4
}
