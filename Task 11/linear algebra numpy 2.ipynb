{
 "cells": [
  {
   "cell_type": "markdown",
   "id": "236f7ae8",
   "metadata": {},
   "source": [
    "# linear Algebra with numpy"
   ]
  },
  {
   "cell_type": "code",
   "execution_count": 1,
   "id": "14418f3f",
   "metadata": {},
   "outputs": [],
   "source": [
    "import numpy as np"
   ]
  },
  {
   "cell_type": "code",
   "execution_count": 2,
   "id": "e3a1288f",
   "metadata": {},
   "outputs": [],
   "source": [
    "vector_a=2+3j"
   ]
  },
  {
   "cell_type": "code",
   "execution_count": 3,
   "id": "00f45057",
   "metadata": {},
   "outputs": [],
   "source": [
    "vector_b=4+5j"
   ]
  },
  {
   "cell_type": "code",
   "execution_count": 6,
   "id": "b783cb9c",
   "metadata": {},
   "outputs": [
    {
     "data": {
      "text/plain": [
       "(23-2j)"
      ]
     },
     "execution_count": 6,
     "metadata": {},
     "output_type": "execute_result"
    }
   ],
   "source": [
    "np.vdot(vector_a,vector_b)"
   ]
  },
  {
   "cell_type": "markdown",
   "id": "d5cb36cd",
   "metadata": {},
   "source": [
    "# linear matrix equation"
   ]
  },
  {
   "cell_type": "code",
   "execution_count": 7,
   "id": "d0e24e66",
   "metadata": {},
   "outputs": [],
   "source": [
    "a=np.array([[1,2],[3,4]])"
   ]
  },
  {
   "cell_type": "code",
   "execution_count": 8,
   "id": "e35b1a20",
   "metadata": {},
   "outputs": [],
   "source": [
    "b=np.array([8,18])"
   ]
  },
  {
   "cell_type": "code",
   "execution_count": 9,
   "id": "f2eb3a9f",
   "metadata": {},
   "outputs": [
    {
     "data": {
      "text/plain": [
       "array([2., 3.])"
      ]
     },
     "execution_count": 9,
     "metadata": {},
     "output_type": "execute_result"
    }
   ],
   "source": [
    "np.linalg.solve(a,b)"
   ]
  },
  {
   "cell_type": "markdown",
   "id": "9882d6d8",
   "metadata": {},
   "source": [
    "# deteminant\n"
   ]
  },
  {
   "cell_type": "code",
   "execution_count": 11,
   "id": "13dbd1d5",
   "metadata": {},
   "outputs": [],
   "source": [
    "A=np.array([[6,1,1],[4,-2,5],[2,8,7]])"
   ]
  },
  {
   "cell_type": "code",
   "execution_count": 12,
   "id": "965052a5",
   "metadata": {},
   "outputs": [
    {
     "data": {
      "text/plain": [
       "array([[ 6,  1,  1],\n",
       "       [ 4, -2,  5],\n",
       "       [ 2,  8,  7]])"
      ]
     },
     "execution_count": 12,
     "metadata": {},
     "output_type": "execute_result"
    }
   ],
   "source": [
    "A"
   ]
  },
  {
   "cell_type": "code",
   "execution_count": 13,
   "id": "942f74d3",
   "metadata": {},
   "outputs": [
    {
     "data": {
      "text/plain": [
       "-306.0"
      ]
     },
     "execution_count": 13,
     "metadata": {},
     "output_type": "execute_result"
    }
   ],
   "source": [
    "np.linalg.det(A)"
   ]
  },
  {
   "cell_type": "code",
   "execution_count": 14,
   "id": "92f8b82b",
   "metadata": {},
   "outputs": [
    {
     "data": {
      "text/plain": [
       "11"
      ]
     },
     "execution_count": 14,
     "metadata": {},
     "output_type": "execute_result"
    }
   ],
   "source": [
    "np.trace(A)"
   ]
  },
  {
   "cell_type": "code",
   "execution_count": null,
   "id": "8472c01a",
   "metadata": {},
   "outputs": [],
   "source": []
  }
 ],
 "metadata": {
  "kernelspec": {
   "display_name": "Python 3 (ipykernel)",
   "language": "python",
   "name": "python3"
  },
  "language_info": {
   "codemirror_mode": {
    "name": "ipython",
    "version": 3
   },
   "file_extension": ".py",
   "mimetype": "text/x-python",
   "name": "python",
   "nbconvert_exporter": "python",
   "pygments_lexer": "ipython3",
   "version": "3.11.1"
  }
 },
 "nbformat": 4,
 "nbformat_minor": 5
}
