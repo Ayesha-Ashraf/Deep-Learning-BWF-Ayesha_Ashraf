{
 "cells": [
  {
   "cell_type": "markdown",
   "id": "9ccbec43",
   "metadata": {},
   "source": [
    "# Neural Networks"
   ]
  },
  {
   "cell_type": "code",
   "execution_count": 1,
   "id": "04ad8967",
   "metadata": {},
   "outputs": [],
   "source": [
    "from keras.datasets import mnist\n",
    "(train_images,train_labels),(test_images,test_labels)=mnist.load_data()"
   ]
  },
  {
   "cell_type": "code",
   "execution_count": 2,
   "id": "a83f175a",
   "metadata": {},
   "outputs": [
    {
     "data": {
      "text/plain": [
       "(60000, 28, 28)"
      ]
     },
     "execution_count": 2,
     "metadata": {},
     "output_type": "execute_result"
    }
   ],
   "source": [
    "train_images.shape"
   ]
  },
  {
   "cell_type": "code",
   "execution_count": 3,
   "id": "baadab82",
   "metadata": {},
   "outputs": [
    {
     "data": {
      "text/plain": [
       "60000"
      ]
     },
     "execution_count": 3,
     "metadata": {},
     "output_type": "execute_result"
    }
   ],
   "source": [
    "len(train_labels)"
   ]
  },
  {
   "cell_type": "code",
   "execution_count": 4,
   "id": "02bac149",
   "metadata": {},
   "outputs": [
    {
     "data": {
      "text/plain": [
       "array([5, 0, 4, ..., 5, 6, 8], dtype=uint8)"
      ]
     },
     "execution_count": 4,
     "metadata": {},
     "output_type": "execute_result"
    }
   ],
   "source": [
    "train_labels"
   ]
  },
  {
   "cell_type": "code",
   "execution_count": 5,
   "id": "53cabfea",
   "metadata": {},
   "outputs": [
    {
     "data": {
      "text/plain": [
       "(10000, 28, 28)"
      ]
     },
     "execution_count": 5,
     "metadata": {},
     "output_type": "execute_result"
    }
   ],
   "source": [
    "test_images.shape"
   ]
  },
  {
   "cell_type": "code",
   "execution_count": 6,
   "id": "46cdc797",
   "metadata": {},
   "outputs": [
    {
     "data": {
      "text/plain": [
       "10000"
      ]
     },
     "execution_count": 6,
     "metadata": {},
     "output_type": "execute_result"
    }
   ],
   "source": [
    "len(test_labels)"
   ]
  },
  {
   "cell_type": "code",
   "execution_count": 7,
   "id": "fbf1232b",
   "metadata": {},
   "outputs": [
    {
     "data": {
      "text/plain": [
       "array([7, 2, 1, ..., 4, 5, 6], dtype=uint8)"
      ]
     },
     "execution_count": 7,
     "metadata": {},
     "output_type": "execute_result"
    }
   ],
   "source": [
    "test_labels\n"
   ]
  },
  {
   "cell_type": "code",
   "execution_count": 8,
   "id": "d0d7a431",
   "metadata": {},
   "outputs": [],
   "source": [
    "from keras import models\n",
    "from keras import layers\n",
    "network=models.Sequential()\n",
    "network.add(layers.Dense(512,activation='relu',input_shape=(28*28,)))\n",
    "network.add(layers.Dense(10,activation='softmax'))"
   ]
  },
  {
   "cell_type": "code",
   "execution_count": 9,
   "id": "4ddfe776",
   "metadata": {},
   "outputs": [],
   "source": [
    "network.compile(optimizer='rmsprop',\n",
    "               loss='categorical_crossentropy',\n",
    "               metrics=['accuracy'])\n"
   ]
  },
  {
   "cell_type": "code",
   "execution_count": 10,
   "id": "228fb6d4",
   "metadata": {},
   "outputs": [],
   "source": [
    "train_images=train_images.reshape((60000,28*28))\n",
    "train_images=train_images.astype('float32')/255\n",
    "\n",
    "test_images=test_images.reshape((10000,28*28))\n",
    "test_images=test_images.astype('float32')/255\n",
    "\n",
    "\n",
    "\n"
   ]
  },
  {
   "cell_type": "code",
   "execution_count": 11,
   "id": "8cccf99a",
   "metadata": {},
   "outputs": [],
   "source": [
    "from keras.utils import to_categorical\n",
    "\n",
    "train_labels=to_categorical(train_labels)\n",
    "\n",
    "test_labels=to_categorical(test_labels)"
   ]
  },
  {
   "cell_type": "code",
   "execution_count": 12,
   "id": "5a3512c3",
   "metadata": {},
   "outputs": [
    {
     "name": "stdout",
     "output_type": "stream",
     "text": [
      "Epoch 1/5\n",
      "469/469 [==============================] - 6s 11ms/step - loss: 0.2646 - accuracy: 0.9242\n",
      "Epoch 2/5\n",
      "469/469 [==============================] - 5s 10ms/step - loss: 0.1092 - accuracy: 0.9679\n",
      "Epoch 3/5\n",
      "469/469 [==============================] - 5s 10ms/step - loss: 0.0712 - accuracy: 0.9792\n",
      "Epoch 4/5\n",
      "469/469 [==============================] - 5s 10ms/step - loss: 0.0516 - accuracy: 0.9847\n",
      "Epoch 5/5\n",
      "469/469 [==============================] - 5s 10ms/step - loss: 0.0391 - accuracy: 0.9879\n"
     ]
    },
    {
     "data": {
      "text/plain": [
       "<keras.callbacks.History at 0x29e3cbfc710>"
      ]
     },
     "execution_count": 12,
     "metadata": {},
     "output_type": "execute_result"
    }
   ],
   "source": [
    "network.fit(train_images , train_labels ,epochs=5 ,batch_size=128)"
   ]
  },
  {
   "cell_type": "code",
   "execution_count": 13,
   "id": "feccf504",
   "metadata": {},
   "outputs": [
    {
     "name": "stdout",
     "output_type": "stream",
     "text": [
      "313/313 [==============================] - 1s 3ms/step - loss: 0.0671 - accuracy: 0.9787\n",
      "testacc: 0.9786999821662903\n"
     ]
    }
   ],
   "source": [
    "test_loss,test_acc=network.evaluate(test_images , test_labels)\n",
    "print('testacc:',test_acc)"
   ]
  },
  {
   "cell_type": "markdown",
   "id": "1146f56e",
   "metadata": {},
   "source": [
    "# data representation of neural network"
   ]
  },
  {
   "cell_type": "code",
   "execution_count": 14,
   "id": "560e5539",
   "metadata": {},
   "outputs": [],
   "source": [
    "import numpy as np"
   ]
  },
  {
   "cell_type": "code",
   "execution_count": 15,
   "id": "c3dbe201",
   "metadata": {},
   "outputs": [],
   "source": [
    "x=np.array(12)"
   ]
  },
  {
   "cell_type": "code",
   "execution_count": 16,
   "id": "d29411ec",
   "metadata": {},
   "outputs": [
    {
     "data": {
      "text/plain": [
       "array(12)"
      ]
     },
     "execution_count": 16,
     "metadata": {},
     "output_type": "execute_result"
    }
   ],
   "source": [
    "x\n"
   ]
  },
  {
   "cell_type": "code",
   "execution_count": 17,
   "id": "6485856d",
   "metadata": {},
   "outputs": [
    {
     "data": {
      "text/plain": [
       "0"
      ]
     },
     "execution_count": 17,
     "metadata": {},
     "output_type": "execute_result"
    }
   ],
   "source": [
    "x.ndim"
   ]
  },
  {
   "cell_type": "code",
   "execution_count": 18,
   "id": "9ec06cff",
   "metadata": {},
   "outputs": [
    {
     "data": {
      "text/plain": [
       "array([12,  3,  6, 14])"
      ]
     },
     "execution_count": 18,
     "metadata": {},
     "output_type": "execute_result"
    }
   ],
   "source": [
    "x=np.array([12,3,6,14])\n",
    "x"
   ]
  },
  {
   "cell_type": "code",
   "execution_count": 19,
   "id": "03e3d033",
   "metadata": {},
   "outputs": [
    {
     "data": {
      "text/plain": [
       "1"
      ]
     },
     "execution_count": 19,
     "metadata": {},
     "output_type": "execute_result"
    }
   ],
   "source": [
    "x.ndim"
   ]
  },
  {
   "cell_type": "code",
   "execution_count": 20,
   "id": "42f7a600",
   "metadata": {},
   "outputs": [],
   "source": [
    "x=np.array([[2,7,8],[4,9,3]])"
   ]
  },
  {
   "cell_type": "code",
   "execution_count": 21,
   "id": "63c73630",
   "metadata": {},
   "outputs": [
    {
     "data": {
      "text/plain": [
       "array([[2, 7, 8],\n",
       "       [4, 9, 3]])"
      ]
     },
     "execution_count": 21,
     "metadata": {},
     "output_type": "execute_result"
    }
   ],
   "source": [
    "x\n"
   ]
  },
  {
   "cell_type": "code",
   "execution_count": 22,
   "id": "f928ca23",
   "metadata": {},
   "outputs": [
    {
     "data": {
      "text/plain": [
       "2"
      ]
     },
     "execution_count": 22,
     "metadata": {},
     "output_type": "execute_result"
    }
   ],
   "source": [
    "x.ndim"
   ]
  },
  {
   "cell_type": "code",
   "execution_count": 23,
   "id": "72d64949",
   "metadata": {},
   "outputs": [],
   "source": [
    "x=np.array([[[4,7,8],[7,9,9]]])"
   ]
  },
  {
   "cell_type": "code",
   "execution_count": 24,
   "id": "f8e9b269",
   "metadata": {},
   "outputs": [
    {
     "data": {
      "text/plain": [
       "array([[[4, 7, 8],\n",
       "        [7, 9, 9]]])"
      ]
     },
     "execution_count": 24,
     "metadata": {},
     "output_type": "execute_result"
    }
   ],
   "source": [
    "x\n"
   ]
  },
  {
   "cell_type": "code",
   "execution_count": 25,
   "id": "abc896d9",
   "metadata": {},
   "outputs": [
    {
     "data": {
      "text/plain": [
       "3"
      ]
     },
     "execution_count": 25,
     "metadata": {},
     "output_type": "execute_result"
    }
   ],
   "source": [
    "x.ndim"
   ]
  },
  {
   "cell_type": "code",
   "execution_count": 26,
   "id": "cd7845e0",
   "metadata": {},
   "outputs": [],
   "source": [
    "from keras.datasets import mnist\n",
    "(train_images ,train_labels),(test_images,test_labels)=mnist.load_data()"
   ]
  },
  {
   "cell_type": "code",
   "execution_count": 27,
   "id": "6216a10a",
   "metadata": {},
   "outputs": [
    {
     "name": "stdout",
     "output_type": "stream",
     "text": [
      "3\n"
     ]
    }
   ],
   "source": [
    "\n",
    "print(train_images.ndim)"
   ]
  },
  {
   "cell_type": "code",
   "execution_count": 28,
   "id": "8e88f6a6",
   "metadata": {},
   "outputs": [
    {
     "name": "stdout",
     "output_type": "stream",
     "text": [
      "(60000, 28, 28)\n"
     ]
    }
   ],
   "source": [
    "print(train_images.shape)"
   ]
  },
  {
   "cell_type": "code",
   "execution_count": 29,
   "id": "deac0f5b",
   "metadata": {},
   "outputs": [
    {
     "name": "stdout",
     "output_type": "stream",
     "text": [
      "uint8\n"
     ]
    }
   ],
   "source": [
    "print(train_images.dtype)"
   ]
  },
  {
   "cell_type": "code",
   "execution_count": 30,
   "id": "638fc3b7",
   "metadata": {},
   "outputs": [
    {
     "data": {
      "image/png": "[encoded data removed]",
      "text/plain": [
       "<Figure size 640x480 with 1 Axes>"
      ]
     },
     "metadata": {},
     "output_type": "display_data"
    }
   ],
   "source": [
    "digit =train_images[4]\n",
    "import matplotlib.pyplot as plt \n",
    "plt.imshow(digit,cmap=plt.cm.binary)\n",
    "plt.show()"
   ]
  },
  {
   "cell_type": "code",
   "execution_count": 31,
   "id": "2233b272",
   "metadata": {},
   "outputs": [
    {
     "name": "stdout",
     "output_type": "stream",
     "text": [
      "(90, 28, 28)\n"
     ]
    }
   ],
   "source": [
    "my_slice=train_images[10:100]\n",
    "print(my_slice.shape)"
   ]
  },
  {
   "cell_type": "code",
   "execution_count": 32,
   "id": "8bb2019e",
   "metadata": {},
   "outputs": [
    {
     "data": {
      "text/plain": [
       "(90, 28, 28)"
      ]
     },
     "execution_count": 32,
     "metadata": {},
     "output_type": "execute_result"
    }
   ],
   "source": [
    "my_slice=train_images[10:100,:,:]\n",
    "my_slice.shape"
   ]
  },
  {
   "cell_type": "code",
   "execution_count": 33,
   "id": "b750bac9",
   "metadata": {},
   "outputs": [
    {
     "name": "stdout",
     "output_type": "stream",
     "text": [
      "(90, 28, 28)\n"
     ]
    }
   ],
   "source": [
    "my_slice=train_images[10:100,0:28,0:28]\n",
    "print(my_slice.shape)"
   ]
  },
  {
   "cell_type": "code",
   "execution_count": 34,
   "id": "aaa9ecc9",
   "metadata": {},
   "outputs": [],
   "source": [
    "batch=train_images[:128]"
   ]
  },
  {
   "cell_type": "code",
   "execution_count": 35,
   "id": "eafb3c7e",
   "metadata": {},
   "outputs": [],
   "source": [
    "batch=train_images[128:256]"
   ]
  },
  {
   "cell_type": "markdown",
   "id": "53044ec6",
   "metadata": {},
   "source": [
    "# neural network with tensor operation"
   ]
  },
  {
   "cell_type": "code",
   "execution_count": 36,
   "id": "93e1c3bf",
   "metadata": {},
   "outputs": [
    {
     "data": {
      "text/plain": [
       "<KerasTensor: shape=(None, 128) dtype=float32 (created by layer 'dense_2')>"
      ]
     },
     "execution_count": 36,
     "metadata": {},
     "output_type": "execute_result"
    }
   ],
   "source": [
    "from keras import layers\n",
    "dense_layer = layers.Dense(128, activation='relu') \n",
    "dense_layer_output = dense_layer(network.output)\n",
    "\n",
    "dense_layer_output "
   ]
  },
  {
   "cell_type": "code",
   "execution_count": 37,
   "id": "d6f57e62",
   "metadata": {},
   "outputs": [],
   "source": [
    "def naive_relu(x):\n",
    "    assert len(x.shape)==2\n",
    "    x=x.copy()\n",
    "    for i in  range(x.shape[0]):\n",
    "        for j in range(x.shape[1]):\n",
    "            x[i,j]=max(x[i,j],0)\n",
    "    return x\n"
   ]
  },
  {
   "cell_type": "code",
   "execution_count": 38,
   "id": "4aff5888",
   "metadata": {},
   "outputs": [],
   "source": [
    "def naive_add(x,y):\n",
    "    assert len(x.shape)==2\n",
    "    assert x.shape==y.shape\n",
    "    x=x.copy()\n",
    "    for i in  range(x.shape[0]):\n",
    "        for j in range(x.shape[1]):\n",
    "            x[i,j]+=y[i,j]\n",
    "    return x\n"
   ]
  },
  {
   "cell_type": "code",
   "execution_count": 39,
   "id": "2821fdcb",
   "metadata": {},
   "outputs": [],
   "source": [
    "def naive_add_matrix_and_vector(x,y):\n",
    "    assert len(x.shape)==2\n",
    "    assert len(y.shape)==1\n",
    "    assert x.shape[1]==y.shape[0]\n",
    "    x=x.copy()\n",
    "    for i in  range(x.shape[0]):\n",
    "        for j in range(x.shape[1]):\n",
    "            x[i,j]+=y[j]\n",
    "    return x"
   ]
  },
  {
   "cell_type": "code",
   "execution_count": 40,
   "id": "0c39234c",
   "metadata": {},
   "outputs": [],
   "source": [
    "import numpy as np\n",
    "x=np.random.random((64,3,32,10))\n",
    "y=np.random.random((32,10))\n",
    "z=np.maximum(x,y)\n",
    "\n"
   ]
  },
  {
   "cell_type": "code",
   "execution_count": 41,
   "id": "4d7ea936",
   "metadata": {},
   "outputs": [
    {
     "data": {
      "text/plain": [
       "array([[[[0.56419633, 0.99395446, 0.42524519, ..., 0.61362486,\n",
       "          0.74605179, 0.39435647],\n",
       "         [0.66098011, 0.56518408, 0.98463179, ..., 0.29157359,\n",
       "          0.23692371, 0.99663506],\n",
       "         [0.41914704, 0.58928105, 0.87905216, ..., 0.98325703,\n",
       "          0.99287343, 0.73409344],\n",
       "         ...,\n",
       "         [0.68092106, 0.56751775, 0.95411682, ..., 0.14897789,\n",
       "          0.59974615, 0.85944991],\n",
       "         [0.73971018, 0.82511615, 0.92756397, ..., 0.57330899,\n",
       "          0.25832542, 0.96648768],\n",
       "         [0.87352291, 0.43721125, 0.75851628, ..., 0.86351747,\n",
       "          0.34092643, 0.97980668]],\n",
       "\n",
       "        [[0.7373332 , 0.80602881, 0.41927427, ..., 0.66896475,\n",
       "          0.18246564, 0.39435647],\n",
       "         [0.66098011, 0.32463741, 0.98463179, ..., 0.09093165,\n",
       "          0.86377817, 0.99663506],\n",
       "         [0.41914704, 0.176519  , 0.96480012, ..., 0.85953707,\n",
       "          0.99287343, 0.73409344],\n",
       "         ...,\n",
       "         [0.26835345, 0.56751775, 0.95411682, ..., 0.86739285,\n",
       "          0.70103461, 0.54293562],\n",
       "         [0.86239232, 0.82511615, 0.92756397, ..., 0.34373737,\n",
       "          0.38468433, 0.89169762],\n",
       "         [0.64667583, 0.97537188, 0.75851628, ..., 0.44999234,\n",
       "          0.87580262, 0.97980668]],\n",
       "\n",
       "        [[0.61957444, 0.80602881, 0.41927427, ..., 0.61362486,\n",
       "          0.77872942, 0.39435647],\n",
       "         [0.66098011, 0.65141603, 0.98463179, ..., 0.78513287,\n",
       "          0.42114246, 0.99663506],\n",
       "         [0.41914704, 0.39345411, 0.78661483, ..., 0.85953707,\n",
       "          0.99287343, 0.73409344],\n",
       "         ...,\n",
       "         [0.77096401, 0.56751775, 0.95411682, ..., 0.79757709,\n",
       "          0.33404025, 0.1677171 ],\n",
       "         [0.73971018, 0.82511615, 0.92756397, ..., 0.34373737,\n",
       "          0.69691709, 0.68795283],\n",
       "         [0.54248263, 0.89243365, 0.75851628, ..., 0.78521667,\n",
       "          0.75879745, 0.97980668]]],\n",
       "\n",
       "\n",
       "       [[[0.962922  , 0.80602881, 0.46002213, ..., 0.61362486,\n",
       "          0.7668354 , 0.96472305],\n",
       "         [0.66098011, 0.65577106, 0.98463179, ..., 0.27790135,\n",
       "          0.34115266, 0.99663506],\n",
       "         [0.41914704, 0.176519  , 0.78661483, ..., 0.85953707,\n",
       "          0.99287343, 0.79144075],\n",
       "         ...,\n",
       "         [0.26835345, 0.72562138, 0.95411682, ..., 0.57291222,\n",
       "          0.47615834, 0.1677171 ],\n",
       "         [0.73971018, 0.82511615, 0.92756397, ..., 0.34373737,\n",
       "          0.39712343, 0.56852671],\n",
       "         [0.54248263, 0.65315853, 0.75851628, ..., 0.60716913,\n",
       "          0.81544842, 0.97980668]],\n",
       "\n",
       "        [[0.71344395, 0.80602881, 0.41927427, ..., 0.88543323,\n",
       "          0.38287607, 0.39435647],\n",
       "         [0.66098011, 0.84073466, 0.98463179, ..., 0.43479215,\n",
       "          0.42352807, 0.99663506],\n",
       "         [0.41914704, 0.38222757, 0.78661483, ..., 0.85953707,\n",
       "          0.99287343, 0.73409344],\n",
       "         ...,\n",
       "         [0.76232277, 0.56751775, 0.95890919, ..., 0.87353383,\n",
       "          0.37751051, 0.77137686],\n",
       "         [0.86897042, 0.82511615, 0.92756397, ..., 0.60754187,\n",
       "          0.92333842, 0.94011329],\n",
       "         [0.94971613, 0.29522324, 0.80911612, ..., 0.44999234,\n",
       "          0.60891497, 0.97980668]],\n",
       "\n",
       "        [[0.81791666, 0.80636605, 0.41927427, ..., 0.61362486,\n",
       "          0.3400225 , 0.74098164],\n",
       "         [0.66098011, 0.70125303, 0.98463179, ..., 0.8004045 ,\n",
       "          0.28374158, 0.99663506],\n",
       "         [0.41914704, 0.7508169 , 0.78661483, ..., 0.85953707,\n",
       "          0.99287343, 0.73409344],\n",
       "         ...,\n",
       "         [0.27254762, 0.56751775, 0.95411682, ..., 0.21713406,\n",
       "          0.53498228, 0.70818185],\n",
       "         [0.73971018, 0.94965788, 0.92756397, ..., 0.6165277 ,\n",
       "          0.75616347, 0.6925301 ],\n",
       "         [0.54248263, 0.65438323, 0.79315497, ..., 0.44999234,\n",
       "          0.4120292 , 0.97980668]]],\n",
       "\n",
       "\n",
       "       [[[0.83022062, 0.80602881, 0.98003095, ..., 0.72204947,\n",
       "          0.18246564, 0.77830267],\n",
       "         [0.66098011, 0.40928789, 0.98463179, ..., 0.95539439,\n",
       "          0.51873366, 0.99663506],\n",
       "         [0.41914704, 0.7338681 , 0.95124432, ..., 0.85953707,\n",
       "          0.99287343, 0.82497252],\n",
       "         ...,\n",
       "         [0.99400681, 0.62052238, 0.95411682, ..., 0.66870522,\n",
       "          0.34868724, 0.21142679],\n",
       "         [0.73971018, 0.82511615, 0.92756397, ..., 0.40759898,\n",
       "          0.68028943, 0.32968689],\n",
       "         [0.54248263, 0.08111855, 0.75851628, ..., 0.44999234,\n",
       "          0.66664319, 0.97980668]],\n",
       "\n",
       "        [[0.47943762, 0.80602881, 0.41927427, ..., 0.94310837,\n",
       "          0.18246564, 0.39435647],\n",
       "         [0.66098011, 0.69202616, 0.98463179, ..., 0.20778992,\n",
       "          0.91631919, 0.99663506],\n",
       "         [0.83454586, 0.176519  , 0.9476962 , ..., 0.85953707,\n",
       "          0.99287343, 0.73409344],\n",
       "         ...,\n",
       "         [0.96035004, 0.56751775, 0.95411682, ..., 0.29040553,\n",
       "          0.30373585, 0.30811651],\n",
       "         [0.73971018, 0.84805828, 0.92756397, ..., 0.3852598 ,\n",
       "          0.3998985 , 0.4221173 ],\n",
       "         [0.54248263, 0.84187566, 0.75851628, ..., 0.44999234,\n",
       "          0.59977555, 0.97980668]],\n",
       "\n",
       "        [[0.45089451, 0.80602881, 0.41927427, ..., 0.66063833,\n",
       "          0.7196246 , 0.7440841 ],\n",
       "         [0.99477814, 0.92752326, 0.98463179, ..., 0.43398006,\n",
       "          0.63244608, 0.99663506],\n",
       "         [0.41914704, 0.176519  , 0.78661483, ..., 0.85953707,\n",
       "          0.99287343, 0.73409344],\n",
       "         ...,\n",
       "         [0.90423905, 0.73329536, 0.95411682, ..., 0.07968887,\n",
       "          0.30373585, 0.4616778 ],\n",
       "         [0.73971018, 0.82511615, 0.92756397, ..., 0.70840389,\n",
       "          0.83781889, 0.44584347],\n",
       "         [0.58601662, 0.20317358, 0.75851628, ..., 0.69704217,\n",
       "          0.39654522, 0.97980668]]],\n",
       "\n",
       "\n",
       "       ...,\n",
       "\n",
       "\n",
       "       [[[0.46696373, 0.80602881, 0.41927427, ..., 0.61362486,\n",
       "          0.19060802, 0.39435647],\n",
       "         [0.98260266, 0.32463741, 0.98463179, ..., 0.14152564,\n",
       "          0.50984127, 0.99663506],\n",
       "         [0.98414468, 0.39324686, 0.98140169, ..., 0.85953707,\n",
       "          0.99287343, 0.73409344],\n",
       "         ...,\n",
       "         [0.26835345, 0.56751775, 0.95411682, ..., 0.69046193,\n",
       "          0.48456593, 0.1677171 ],\n",
       "         [0.73971018, 0.82511615, 0.93792249, ..., 0.34373737,\n",
       "          0.46084127, 0.00733177],\n",
       "         [0.87060299, 0.6009117 , 0.75851628, ..., 0.54291334,\n",
       "          0.42837518, 0.97980668]],\n",
       "\n",
       "        [[0.4870959 , 0.87179932, 0.49774318, ..., 0.61362486,\n",
       "          0.50785256, 0.56498171],\n",
       "         [0.7265335 , 0.57522432, 0.98463179, ..., 0.73023882,\n",
       "          0.55813118, 0.99663506],\n",
       "         [0.41914704, 0.9505767 , 0.78661483, ..., 0.94833108,\n",
       "          0.99287343, 0.82222346],\n",
       "         ...,\n",
       "         [0.26835345, 0.56751775, 0.97766706, ..., 0.38128561,\n",
       "          0.77094196, 0.64031175],\n",
       "         [0.73971018, 0.82511615, 0.92756397, ..., 0.66243118,\n",
       "          0.3440873 , 0.89936778],\n",
       "         [0.54248263, 0.1615955 , 0.75851628, ..., 0.44999234,\n",
       "          0.73457813, 0.97980668]],\n",
       "\n",
       "        [[0.32723013, 0.80602881, 0.96446949, ..., 0.65318543,\n",
       "          0.82695369, 0.85860857],\n",
       "         [0.90764261, 0.74999906, 0.98463179, ..., 0.69913865,\n",
       "          0.99142093, 0.99663506],\n",
       "         [0.80506698, 0.176519  , 0.78661483, ..., 0.85953707,\n",
       "          0.99287343, 0.73409344],\n",
       "         ...,\n",
       "         [0.87189318, 0.83888939, 0.95411682, ..., 0.77642302,\n",
       "          0.95655531, 0.19486631],\n",
       "         [0.73971018, 0.82511615, 0.92756397, ..., 0.70156748,\n",
       "          0.25832542, 0.47923167],\n",
       "         [0.54248263, 0.11587226, 0.75851628, ..., 0.44999234,\n",
       "          0.05323475, 0.97980668]]],\n",
       "\n",
       "\n",
       "       [[[0.35578682, 0.80602881, 0.41927427, ..., 0.61362486,\n",
       "          0.8554938 , 0.65857188],\n",
       "         [0.66098011, 0.90300295, 0.98463179, ..., 0.58051896,\n",
       "          0.73828883, 0.99663506],\n",
       "         [0.41914704, 0.87106018, 0.86271315, ..., 0.85953707,\n",
       "          0.99287343, 0.73409344],\n",
       "         ...,\n",
       "         [0.59387037, 0.61867285, 0.95411682, ..., 0.88848701,\n",
       "          0.30373585, 0.25891275],\n",
       "         [0.73971018, 0.82511615, 0.92756397, ..., 0.34373737,\n",
       "          0.25832542, 0.54267614],\n",
       "         [0.54248263, 0.08111855, 0.75851628, ..., 0.44999234,\n",
       "          0.37124148, 0.97980668]],\n",
       "\n",
       "        [[0.27556304, 0.98642402, 0.41927427, ..., 0.61362486,\n",
       "          0.34841665, 0.39435647],\n",
       "         [0.72651239, 0.51931391, 0.98463179, ..., 0.90276087,\n",
       "          0.22803935, 0.99663506],\n",
       "         [0.41914704, 0.79000898, 0.83836687, ..., 0.85953707,\n",
       "          0.99287343, 0.73409344],\n",
       "         ...,\n",
       "         [0.41624493, 0.56751775, 0.95411682, ..., 0.691845  ,\n",
       "          0.61037144, 0.98641987],\n",
       "         [0.73971018, 0.82511615, 0.92756397, ..., 0.34373737,\n",
       "          0.25832542, 0.31975095],\n",
       "         [0.64586072, 0.704519  , 0.75851628, ..., 0.44999234,\n",
       "          0.5863449 , 0.97980668]],\n",
       "\n",
       "        [[0.2760651 , 0.80602881, 0.41927427, ..., 0.810926  ,\n",
       "          0.61257449, 0.39435647],\n",
       "         [0.73600785, 0.4785998 , 0.98463179, ..., 0.58422686,\n",
       "          0.22803935, 0.99663506],\n",
       "         [0.75440152, 0.176519  , 0.78661483, ..., 0.85953707,\n",
       "          0.99287343, 0.73409344],\n",
       "         ...,\n",
       "         [0.30742636, 0.56751775, 0.95411682, ..., 0.02647487,\n",
       "          0.96622129, 0.49211436],\n",
       "         [0.73971018, 0.82511615, 0.92756397, ..., 0.34373737,\n",
       "          0.33917164, 0.74036152],\n",
       "         [0.79348802, 0.4198818 , 0.75851628, ..., 0.75484103,\n",
       "          0.29102002, 0.97980668]]],\n",
       "\n",
       "\n",
       "       [[[0.89767561, 0.80602881, 0.5507646 , ..., 0.75310623,\n",
       "          0.18246564, 0.99124023],\n",
       "         [0.76074148, 0.32463741, 0.98463179, ..., 0.25887646,\n",
       "          0.39646589, 0.99663506],\n",
       "         [0.8491331 , 0.176519  , 0.88526684, ..., 0.85953707,\n",
       "          0.99287343, 0.73409344],\n",
       "         ...,\n",
       "         [0.95585563, 0.56751775, 0.95411682, ..., 0.15811894,\n",
       "          0.71353718, 0.77124081],\n",
       "         [0.73971018, 0.98134572, 0.92756397, ..., 0.53792868,\n",
       "          0.25832542, 0.36740565],\n",
       "         [0.98628951, 0.91926398, 0.97114764, ..., 0.89127892,\n",
       "          0.46774913, 0.97980668]],\n",
       "\n",
       "        [[0.87231431, 0.80602881, 0.64921391, ..., 0.94853901,\n",
       "          0.18246564, 0.70279717],\n",
       "         [0.66098011, 0.60571752, 0.98463179, ..., 0.37567037,\n",
       "          0.47390642, 0.99663506],\n",
       "         [0.59189253, 0.78746373, 0.78661483, ..., 0.85953707,\n",
       "          0.99287343, 0.73409344],\n",
       "         ...,\n",
       "         [0.52895835, 0.56751775, 0.95411682, ..., 0.59175336,\n",
       "          0.30373585, 0.21867126],\n",
       "         [0.73971018, 0.82511615, 0.92756397, ..., 0.84373444,\n",
       "          0.50929423, 0.44679488],\n",
       "         [0.54248263, 0.46892953, 0.75851628, ..., 0.44999234,\n",
       "          0.78817811, 0.97980668]],\n",
       "\n",
       "        [[0.61310456, 0.86017345, 0.43509897, ..., 0.82264843,\n",
       "          0.45749664, 0.57228718],\n",
       "         [0.66098011, 0.32463741, 0.98463179, ..., 0.6523148 ,\n",
       "          0.25879118, 0.99663506],\n",
       "         [0.41914704, 0.22130074, 0.78661483, ..., 0.85953707,\n",
       "          0.99287343, 0.88999366],\n",
       "         ...,\n",
       "         [0.89545732, 0.94078382, 0.95411682, ..., 0.47315855,\n",
       "          0.97333374, 0.73203455],\n",
       "         [0.73971018, 0.82511615, 0.92756397, ..., 0.38600157,\n",
       "          0.25832542, 0.26313746],\n",
       "         [0.97394742, 0.61562973, 0.75851628, ..., 0.44999234,\n",
       "          0.93057176, 0.97980668]]]])"
      ]
     },
     "execution_count": 41,
     "metadata": {},
     "output_type": "execute_result"
    }
   ],
   "source": [
    "z"
   ]
  },
  {
   "cell_type": "code",
   "execution_count": 42,
   "id": "563ff613",
   "metadata": {},
   "outputs": [],
   "source": [
    "import numpy as np "
   ]
  },
  {
   "cell_type": "code",
   "execution_count": 43,
   "id": "3331fd43",
   "metadata": {},
   "outputs": [],
   "source": [
    "def naive_vector_dot(x,y):\n",
    "    assert len(x.shape)==1\n",
    "    assert len(y.shape)==1\n",
    "    assert x.shape[0]==y.shape[0]\n",
    "    z=0\n",
    "    for i in  range(x.shape[0]):\n",
    "        z+=x[i]*y[i]\n",
    "    return z"
   ]
  },
  {
   "cell_type": "code",
   "execution_count": 44,
   "id": "0fb731eb",
   "metadata": {},
   "outputs": [],
   "source": [
    "import numpy as np\n",
    "def naive_matrix_vector_dot(x,y):\n",
    "    assert len(x.shape)==2\n",
    "    assert len(y.shape)==1\n",
    "    assert x.shape[1]==y.shape[0]\n",
    "    z=np.zeros(x.shape[0])\n",
    "    for i in  range(x.shape[0]):\n",
    "        for j in range (x.shape[1]):\n",
    "            z+=x[i,j]*y[i]\n",
    "    return z"
   ]
  },
  {
   "cell_type": "code",
   "execution_count": 45,
   "id": "af19c9c4",
   "metadata": {},
   "outputs": [],
   "source": [
    "def naive_matrix_vector_dot(x,y):\n",
    "    \n",
    "    z=np.zeros(x.shape[0])\n",
    "    for i in  range(x.shape[0]):\n",
    "        z[i]=naive_vector_dot(x[i,:],y)\n",
    "    return z\n",
    "\n"
   ]
  },
  {
   "cell_type": "code",
   "execution_count": 46,
   "id": "5cbbf5a3",
   "metadata": {},
   "outputs": [],
   "source": [
    "def naive_matrix_dot(x,y):\n",
    "    assert len(x.shape)==2\n",
    "    assert len(y.shape)==2\n",
    "    assert x.shape[1]==y.shape[0]\n",
    "    z=np.zeros((x.shape[0],y.shape[1]))\n",
    "    for i in  range(x.shape[0]):\n",
    "        for j in range (y.shape[1]):\n",
    "            row_x=x[i,:]\n",
    "            column_y=y[:,j]\n",
    "            z[i,j]=naive_vector_dot(row_x,column_y)\n",
    "    return z\n"
   ]
  },
  {
   "cell_type": "markdown",
   "id": "b07cd3a8",
   "metadata": {},
   "source": [
    "# reshaping\n"
   ]
  },
  {
   "cell_type": "code",
   "execution_count": 47,
   "id": "8af2b35d",
   "metadata": {},
   "outputs": [],
   "source": [
    "x=np.array([[0.,1.],[2.,4.],[4.,5.]])"
   ]
  },
  {
   "cell_type": "code",
   "execution_count": 48,
   "id": "5b634b74",
   "metadata": {},
   "outputs": [
    {
     "data": {
      "text/plain": [
       "(3, 2)"
      ]
     },
     "execution_count": 48,
     "metadata": {},
     "output_type": "execute_result"
    }
   ],
   "source": [
    "x.shape\n"
   ]
  },
  {
   "cell_type": "code",
   "execution_count": 49,
   "id": "6f2cb86b",
   "metadata": {},
   "outputs": [
    {
     "data": {
      "text/plain": [
       "array([[0.],\n",
       "       [1.],\n",
       "       [2.],\n",
       "       [4.],\n",
       "       [4.],\n",
       "       [5.]])"
      ]
     },
     "execution_count": 49,
     "metadata": {},
     "output_type": "execute_result"
    }
   ],
   "source": [
    "x.reshape((6,1))\n"
   ]
  },
  {
   "cell_type": "code",
   "execution_count": 50,
   "id": "f20bcf18",
   "metadata": {},
   "outputs": [],
   "source": [
    "x=x.reshape((2,3))"
   ]
  },
  {
   "cell_type": "code",
   "execution_count": 51,
   "id": "b33cd179",
   "metadata": {},
   "outputs": [],
   "source": [
    "x=np.zeros((300,20))"
   ]
  },
  {
   "cell_type": "code",
   "execution_count": 52,
   "id": "26786d43",
   "metadata": {},
   "outputs": [
    {
     "data": {
      "text/plain": [
       "array([[0., 0., 0., ..., 0., 0., 0.],\n",
       "       [0., 0., 0., ..., 0., 0., 0.],\n",
       "       [0., 0., 0., ..., 0., 0., 0.],\n",
       "       ...,\n",
       "       [0., 0., 0., ..., 0., 0., 0.],\n",
       "       [0., 0., 0., ..., 0., 0., 0.],\n",
       "       [0., 0., 0., ..., 0., 0., 0.]])"
      ]
     },
     "execution_count": 52,
     "metadata": {},
     "output_type": "execute_result"
    }
   ],
   "source": [
    "x=np.transpose(x)\n",
    "x"
   ]
  },
  {
   "cell_type": "code",
   "execution_count": 53,
   "id": "3261b191",
   "metadata": {},
   "outputs": [
    {
     "data": {
      "text/plain": [
       "(20, 300)"
      ]
     },
     "execution_count": 53,
     "metadata": {},
     "output_type": "execute_result"
    }
   ],
   "source": [
    "(x.shape)"
   ]
  },
  {
   "cell_type": "code",
   "execution_count": null,
   "id": "8a328fb8",
   "metadata": {},
   "outputs": [],
   "source": []
  }
 ],
 "metadata": {
  "kernelspec": {
   "display_name": "Python 3 (ipykernel)",
   "language": "python",
   "name": "python3"
  },
  "language_info": {
   "codemirror_mode": {
    "name": "ipython",
    "version": 3
   },
   "file_extension": ".py",
   "mimetype": "text/x-python",
   "name": "python",
   "nbconvert_exporter": "python",
   "pygments_lexer": "ipython3",
   "version": "3.11.1"
  }
 },
 "nbformat": 4,
 "nbformat_minor": 5
}
