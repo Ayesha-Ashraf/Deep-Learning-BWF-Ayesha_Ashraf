{
 "cells": [
  {
   "cell_type": "code",
   "execution_count": 1,
   "metadata": {},
   "outputs": [
    {
     "name": "stdout",
     "output_type": "stream",
     "text": [
      "Initial Array: \n",
      "[[-1.   2.   0.   4. ]\n",
      " [ 4.  -0.5  6.   0. ]\n",
      " [ 2.6  0.   7.   8. ]\n",
      " [ 3.  -7.   4.   2. ]]\n",
      "Array with first 2 rows and alternate columns(0 and 2):\n",
      " [[-1.  0.]\n",
      " [ 4.  6.]]\n",
      "\n",
      "Elements at indices (1, 3), (1, 2), (0, 1), (3, 0):\n",
      " [0. 6. 2. 3.]\n"
     ]
    }
   ],
   "source": [
    "# Python program to demonstrate\n",
    "# indexing in numpy array\n",
    "import numpy as np\n",
    " \n",
    "# Initial Array\n",
    "arr = np.array([[-1, 2, 0, 4],\n",
    "                [4, -0.5, 6, 0],\n",
    "                [2.6, 0, 7, 8],\n",
    "                [3, -7, 4, 2.0]])\n",
    "print(\"Initial Array: \")\n",
    "print(arr)\n",
    " \n",
    "# Printing a range of Array\n",
    "# with the use of slicing method\n",
    "sliced_arr = arr[:2, ::2]\n",
    "print (\"Array with first 2 rows and\"\n",
    "    \" alternate columns(0 and 2):\\n\", sliced_arr)\n",
    " \n",
    "# Printing elements at\n",
    "# specific Indices\n",
    "Index_arr = arr[[1, 1, 0, 3], \n",
    "                [3, 2, 1, 0]]\n",
    "print (\"\\nElements at indices (1, 3), \"\n",
    "    \"(1, 2), (0, 1), (3, 0):\\n\", Index_arr)"
   ]
  }
 ],
 "metadata": {
  "kernelspec": {
   "display_name": "Python 3",
   "language": "python",
   "name": "python3"
  },
  "language_info": {
   "codemirror_mode": {
    "name": "ipython",
    "version": 3
   },
   "file_extension": ".py",
   "mimetype": "text/x-python",
   "name": "python",
   "nbconvert_exporter": "python",
   "pygments_lexer": "ipython3",
   "version": "3.11.1"
  },
  "orig_nbformat": 4
 },
 "nbformat": 4,
 "nbformat_minor": 2
}
