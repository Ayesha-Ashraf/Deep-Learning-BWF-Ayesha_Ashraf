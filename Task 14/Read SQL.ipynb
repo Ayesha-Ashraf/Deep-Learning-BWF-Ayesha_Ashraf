{
 "cells": [
  {
   "cell_type": "markdown",
   "id": "ff045341",
   "metadata": {},
   "source": [
    "# read database\n"
   ]
  },
  {
   "cell_type": "code",
   "execution_count": 2,
   "id": "533e3e94",
   "metadata": {},
   "outputs": [],
   "source": [
    "import pandas as pd\n",
    "import numpy as np\n",
    "import pyodbc\n",
    "import warnings\n",
    "warnings.filterwarnings(\"ignore\")"
   ]
  },
  {
   "cell_type": "code",
   "execution_count": 3,
   "id": "e84063ed",
   "metadata": {},
   "outputs": [
    {
     "data": {
      "text/plain": [
       "['SQL Server',\n",
       " 'SQL Server Native Client RDA 11.0',\n",
       " 'ODBC Driver 17 for SQL Server']"
      ]
     },
     "execution_count": 3,
     "metadata": {},
     "output_type": "execute_result"
    }
   ],
   "source": [
    "pyodbc.drivers()"
   ]
  },
  {
   "cell_type": "code",
   "execution_count": 8,
   "id": "26798c54",
   "metadata": {},
   "outputs": [],
   "source": [
    "SERVER_NAME='DESKTOP-DSQG3O0\\SQLEXPRESS'\n",
    "DATABASE_NAME='dbMom'"
   ]
  },
  {
   "cell_type": "code",
   "execution_count": 13,
   "id": "3c61aaa1",
   "metadata": {},
   "outputs": [],
   "source": [
    "conn = pyodbc.connect(\"\"\"DRIVER={{SQL Server}}; \n",
    "                        Server={0}; \n",
    "                       Database={1};\n",
    "                       Trusted_Connection=yes;\"\"\".format(SERVER_NAME,DATABASE_NAME)\n",
    "                     )\n"
   ]
  },
  {
   "cell_type": "code",
   "execution_count": 14,
   "id": "6555bac7",
   "metadata": {},
   "outputs": [],
   "source": [
    "df_admins=pd.read_sql('Select * from dbo.Admin',conn)"
   ]
  },
  {
   "cell_type": "code",
   "execution_count": 15,
   "id": "eeb9dfa3",
   "metadata": {},
   "outputs": [
    {
     "data": {
      "text/html": [
       "<div>\n",
       "<style scoped>\n",
       "    .dataframe tbody tr th:only-of-type {\n",
       "        vertical-align: middle;\n",
       "    }\n",
       "\n",
       "    .dataframe tbody tr th {\n",
       "        vertical-align: top;\n",
       "    }\n",
       "\n",
       "    .dataframe thead th {\n",
       "        text-align: right;\n",
       "    }\n",
       "</style>\n",
       "<table border=\"1\" class=\"dataframe\">\n",
       "  <thead>\n",
       "    <tr style=\"text-align: right;\">\n",
       "      <th></th>\n",
       "      <th>ADMIN_ID</th>\n",
       "      <th>ADMIN_NAME</th>\n",
       "      <th>ADMIN_EMAIL</th>\n",
       "      <th>ADMIN_PASSWORD</th>\n",
       "      <th>ADMIN_CONTACT</th>\n",
       "      <th>ADMIN_ADDRESS</th>\n",
       "      <th>ADMIN_PROFILE</th>\n",
       "    </tr>\n",
       "  </thead>\n",
       "  <tbody>\n",
       "    <tr>\n",
       "      <th>0</th>\n",
       "      <td>1</td>\n",
       "      <td>Ayesha</td>\n",
       "      <td>ayesha@gmail.com</td>\n",
       "      <td>123</td>\n",
       "      <td>3445</td>\n",
       "      <td>sialkot</td>\n",
       "      <td>pakistani</td>\n",
       "    </tr>\n",
       "    <tr>\n",
       "      <th>1</th>\n",
       "      <td>2</td>\n",
       "      <td>Ayesha</td>\n",
       "      <td>ayesha1@gmail.com</td>\n",
       "      <td>123</td>\n",
       "      <td>3445</td>\n",
       "      <td>sialkot</td>\n",
       "      <td>pakistani</td>\n",
       "    </tr>\n",
       "  </tbody>\n",
       "</table>\n",
       "</div>"
      ],
      "text/plain": [
       "   ADMIN_ID ADMIN_NAME        ADMIN_EMAIL ADMIN_PASSWORD ADMIN_CONTACT  \\\n",
       "0         1     Ayesha   ayesha@gmail.com            123          3445   \n",
       "1         2     Ayesha  ayesha1@gmail.com            123          3445   \n",
       "\n",
       "  ADMIN_ADDRESS ADMIN_PROFILE  \n",
       "0      sialkot      pakistani  \n",
       "1      sialkot      pakistani  "
      ]
     },
     "execution_count": 15,
     "metadata": {},
     "output_type": "execute_result"
    }
   ],
   "source": [
    "df_admins.head()"
   ]
  },
  {
   "cell_type": "code",
   "execution_count": 16,
   "id": "f3875dd7",
   "metadata": {},
   "outputs": [],
   "source": [
    "df_brands=pd.read_sql('Select * from dbo.Brand',conn)"
   ]
  },
  {
   "cell_type": "code",
   "execution_count": 17,
   "id": "815822be",
   "metadata": {},
   "outputs": [
    {
     "data": {
      "text/html": [
       "<div>\n",
       "<style scoped>\n",
       "    .dataframe tbody tr th:only-of-type {\n",
       "        vertical-align: middle;\n",
       "    }\n",
       "\n",
       "    .dataframe tbody tr th {\n",
       "        vertical-align: top;\n",
       "    }\n",
       "\n",
       "    .dataframe thead th {\n",
       "        text-align: right;\n",
       "    }\n",
       "</style>\n",
       "<table border=\"1\" class=\"dataframe\">\n",
       "  <thead>\n",
       "    <tr style=\"text-align: right;\">\n",
       "      <th></th>\n",
       "      <th>BRAND_ID</th>\n",
       "      <th>BRAND_NAME</th>\n",
       "      <th>BRAND_TYPE</th>\n",
       "      <th>CORRESPOND_TITLE</th>\n",
       "      <th>CORRESPOND_NAME</th>\n",
       "      <th>BRAND_PHONE</th>\n",
       "      <th>BRAND_TEL</th>\n",
       "      <th>BRAND_ADDRESS</th>\n",
       "      <th>BRAND_LOGO</th>\n",
       "      <th>BRAND_EMAIL</th>\n",
       "      <th>BRAND_PASSWORD</th>\n",
       "      <th>BRAND_NTN</th>\n",
       "    </tr>\n",
       "  </thead>\n",
       "  <tbody>\n",
       "    <tr>\n",
       "      <th>0</th>\n",
       "      <td>3</td>\n",
       "      <td>mothercare</td>\n",
       "      <td>Baby care Products</td>\n",
       "      <td>Manager</td>\n",
       "      <td>Ali Arslan</td>\n",
       "      <td>03124578561</td>\n",
       "      <td>055-56780</td>\n",
       "      <td>Satellite Town ,Gujranwala</td>\n",
       "      <td>~/ProductPicture/abc.jpeg</td>\n",
       "      <td>mothercare@gmail.com</td>\n",
       "      <td>1234567.m</td>\n",
       "      <td>1237890</td>\n",
       "    </tr>\n",
       "    <tr>\n",
       "      <th>1</th>\n",
       "      <td>6</td>\n",
       "      <td>hello</td>\n",
       "      <td>Baby care Products</td>\n",
       "      <td>trtito</td>\n",
       "      <td>Ali Arslan</td>\n",
       "      <td>02563900249</td>\n",
       "      <td>styt7899</td>\n",
       "      <td>3556 New Creek Road</td>\n",
       "      <td>~/ProductPicture/6.png</td>\n",
       "      <td>mothercare@gmail.com</td>\n",
       "      <td>1234567.m</td>\n",
       "      <td>1237890</td>\n",
       "    </tr>\n",
       "  </tbody>\n",
       "</table>\n",
       "</div>"
      ],
      "text/plain": [
       "   BRAND_ID  BRAND_NAME          BRAND_TYPE CORRESPOND_TITLE CORRESPOND_NAME  \\\n",
       "0         3  mothercare  Baby care Products          Manager      Ali Arslan   \n",
       "1         6       hello  Baby care Products           trtito      Ali Arslan   \n",
       "\n",
       "   BRAND_PHONE  BRAND_TEL               BRAND_ADDRESS  \\\n",
       "0  03124578561  055-56780  Satellite Town ,Gujranwala   \n",
       "1  02563900249   styt7899         3556 New Creek Road   \n",
       "\n",
       "                  BRAND_LOGO           BRAND_EMAIL BRAND_PASSWORD BRAND_NTN  \n",
       "0  ~/ProductPicture/abc.jpeg  mothercare@gmail.com      1234567.m   1237890  \n",
       "1     ~/ProductPicture/6.png  mothercare@gmail.com      1234567.m   1237890  "
      ]
     },
     "execution_count": 17,
     "metadata": {},
     "output_type": "execute_result"
    }
   ],
   "source": [
    "df_brands.head()"
   ]
  },
  {
   "cell_type": "code",
   "execution_count": null,
   "id": "f3958f00",
   "metadata": {},
   "outputs": [],
   "source": []
  }
 ],
 "metadata": {
  "kernelspec": {
   "display_name": "Python 3 (ipykernel)",
   "language": "python",
   "name": "python3"
  },
  "language_info": {
   "codemirror_mode": {
    "name": "ipython",
    "version": 3
   },
   "file_extension": ".py",
   "mimetype": "text/x-python",
   "name": "python",
   "nbconvert_exporter": "python",
   "pygments_lexer": "ipython3",
   "version": "3.11.1"
  }
 },
 "nbformat": 4,
 "nbformat_minor": 5
}
