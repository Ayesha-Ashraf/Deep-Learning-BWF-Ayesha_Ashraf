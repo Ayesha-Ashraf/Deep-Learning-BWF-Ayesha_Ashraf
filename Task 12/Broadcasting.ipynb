{
 "cells": [
  {
   "cell_type": "markdown",
   "id": "f7880b20",
   "metadata": {},
   "source": [
    "# broadcasting with arrays using numpy"
   ]
  },
  {
   "cell_type": "code",
   "execution_count": 1,
   "id": "3343abc6",
   "metadata": {},
   "outputs": [],
   "source": [
    "import numpy as np"
   ]
  },
  {
   "cell_type": "code",
   "execution_count": 2,
   "id": "ffc10d26",
   "metadata": {},
   "outputs": [],
   "source": [
    "arr=np.arange(5)"
   ]
  },
  {
   "cell_type": "code",
   "execution_count": 3,
   "id": "c8469da7",
   "metadata": {},
   "outputs": [
    {
     "data": {
      "text/plain": [
       "array([0, 1, 2, 3, 4])"
      ]
     },
     "execution_count": 3,
     "metadata": {},
     "output_type": "execute_result"
    }
   ],
   "source": [
    "arr"
   ]
  },
  {
   "cell_type": "code",
   "execution_count": 4,
   "id": "0174c453",
   "metadata": {},
   "outputs": [
    {
     "data": {
      "text/plain": [
       "array([ 0,  4,  8, 12, 16])"
      ]
     },
     "execution_count": 4,
     "metadata": {},
     "output_type": "execute_result"
    }
   ],
   "source": [
    "arr*4"
   ]
  },
  {
   "cell_type": "code",
   "execution_count": 5,
   "id": "898cc09e",
   "metadata": {},
   "outputs": [],
   "source": [
    "arr=np.random.randn(4,3)"
   ]
  },
  {
   "cell_type": "code",
   "execution_count": 6,
   "id": "fdceca54",
   "metadata": {},
   "outputs": [
    {
     "data": {
      "text/plain": [
       "array([[-1.49642656,  1.34503131, -0.0146258 ],\n",
       "       [ 0.78464179, -0.97109935, -0.80913327],\n",
       "       [ 0.33859293,  0.15579052,  1.80795444],\n",
       "       [-1.01654989, -0.4415721 ,  0.70281575]])"
      ]
     },
     "execution_count": 6,
     "metadata": {},
     "output_type": "execute_result"
    }
   ],
   "source": [
    "arr"
   ]
  },
  {
   "cell_type": "code",
   "execution_count": 7,
   "id": "68a3aa9e",
   "metadata": {},
   "outputs": [
    {
     "data": {
      "text/plain": [
       "array([-0.34743543,  0.02203759,  0.42175278])"
      ]
     },
     "execution_count": 7,
     "metadata": {},
     "output_type": "execute_result"
    }
   ],
   "source": [
    "arr.mean(0)"
   ]
  },
  {
   "cell_type": "code",
   "execution_count": 8,
   "id": "61b01706",
   "metadata": {},
   "outputs": [],
   "source": [
    "demeaned=arr-arr.mean(0)"
   ]
  },
  {
   "cell_type": "code",
   "execution_count": 10,
   "id": "284d6eef",
   "metadata": {},
   "outputs": [
    {
     "data": {
      "text/plain": [
       "array([[-1.14899112,  1.32299371, -0.43637858],\n",
       "       [ 1.13207723, -0.99313694, -1.23088605],\n",
       "       [ 0.68602836,  0.13375292,  1.38620166],\n",
       "       [-0.66911446, -0.46360969,  0.28106297]])"
      ]
     },
     "execution_count": 10,
     "metadata": {},
     "output_type": "execute_result"
    }
   ],
   "source": [
    "demeaned"
   ]
  },
  {
   "cell_type": "code",
   "execution_count": 11,
   "id": "9ed7e2aa",
   "metadata": {},
   "outputs": [
    {
     "data": {
      "text/plain": [
       "array([ 0.00000000e+00, -1.38777878e-17,  0.00000000e+00])"
      ]
     },
     "execution_count": 11,
     "metadata": {},
     "output_type": "execute_result"
    }
   ],
   "source": [
    "demeaned.mean(0)"
   ]
  },
  {
   "cell_type": "code",
   "execution_count": 13,
   "id": "af2b3473",
   "metadata": {},
   "outputs": [
    {
     "data": {
      "text/plain": [
       "array([[-1.49642656,  1.34503131, -0.0146258 ],\n",
       "       [ 0.78464179, -0.97109935, -0.80913327],\n",
       "       [ 0.33859293,  0.15579052,  1.80795444],\n",
       "       [-1.01654989, -0.4415721 ,  0.70281575]])"
      ]
     },
     "execution_count": 13,
     "metadata": {},
     "output_type": "execute_result"
    }
   ],
   "source": [
    "arr"
   ]
  },
  {
   "cell_type": "code",
   "execution_count": 14,
   "id": "8ab06dcd",
   "metadata": {},
   "outputs": [],
   "source": [
    "row_means=arr.mean(1)"
   ]
  },
  {
   "cell_type": "code",
   "execution_count": 15,
   "id": "391b58ae",
   "metadata": {},
   "outputs": [
    {
     "data": {
      "text/plain": [
       "(4,)"
      ]
     },
     "execution_count": 15,
     "metadata": {},
     "output_type": "execute_result"
    }
   ],
   "source": [
    "row_means.shape"
   ]
  },
  {
   "cell_type": "code",
   "execution_count": 16,
   "id": "9adb4c79",
   "metadata": {},
   "outputs": [
    {
     "data": {
      "text/plain": [
       "array([[-0.05534035],\n",
       "       [-0.33186361],\n",
       "       [ 0.76744596],\n",
       "       [-0.25176875]])"
      ]
     },
     "execution_count": 16,
     "metadata": {},
     "output_type": "execute_result"
    }
   ],
   "source": [
    "row_means.reshape((4,1))"
   ]
  },
  {
   "cell_type": "code",
   "execution_count": 17,
   "id": "a9dd56e3",
   "metadata": {},
   "outputs": [],
   "source": [
    "demeaned=arr-row_means.reshape((4,1))"
   ]
  },
  {
   "cell_type": "code",
   "execution_count": 18,
   "id": "256b49ea",
   "metadata": {},
   "outputs": [
    {
     "data": {
      "text/plain": [
       "array([-6.70759744e-17, -1.85037171e-17,  0.00000000e+00, -7.40148683e-17])"
      ]
     },
     "execution_count": 18,
     "metadata": {},
     "output_type": "execute_result"
    }
   ],
   "source": [
    "demeaned.mean(1)"
   ]
  },
  {
   "cell_type": "markdown",
   "id": "e5f3f2f1",
   "metadata": {},
   "source": [
    "# broadcasting over axis"
   ]
  },
  {
   "cell_type": "code",
   "execution_count": 19,
   "id": "160a5b08",
   "metadata": {},
   "outputs": [
    {
     "data": {
      "text/plain": [
       "array([[-1.44108621,  1.40037166,  0.04071455],\n",
       "       [ 1.1165054 , -0.63923574, -0.47726966],\n",
       "       [-0.42885303, -0.61165545,  1.04050848],\n",
       "       [-0.76478115, -0.18980335,  0.95458449]])"
      ]
     },
     "execution_count": 19,
     "metadata": {},
     "output_type": "execute_result"
    }
   ],
   "source": [
    "arr-arr.mean(1).reshape((4,1))"
   ]
  },
  {
   "cell_type": "code",
   "execution_count": 20,
   "id": "1db99614",
   "metadata": {},
   "outputs": [],
   "source": [
    "arr=np.zeros((4,4))"
   ]
  },
  {
   "cell_type": "code",
   "execution_count": 21,
   "id": "e87fe766",
   "metadata": {},
   "outputs": [],
   "source": [
    "arr_3rd=arr[:,np.newaxis,:]"
   ]
  },
  {
   "cell_type": "code",
   "execution_count": 22,
   "id": "e59af1e6",
   "metadata": {},
   "outputs": [
    {
     "data": {
      "text/plain": [
       "(4, 1, 4)"
      ]
     },
     "execution_count": 22,
     "metadata": {},
     "output_type": "execute_result"
    }
   ],
   "source": [
    "arr_3rd.shape"
   ]
  },
  {
   "cell_type": "code",
   "execution_count": 23,
   "id": "f241d27f",
   "metadata": {},
   "outputs": [],
   "source": [
    "arr_1d=np.random.normal(size=3)"
   ]
  },
  {
   "cell_type": "code",
   "execution_count": 24,
   "id": "122b6b62",
   "metadata": {},
   "outputs": [
    {
     "data": {
      "text/plain": [
       "array([[ 0.01918803],\n",
       "       [-0.56773611],\n",
       "       [-2.57294031]])"
      ]
     },
     "execution_count": 24,
     "metadata": {},
     "output_type": "execute_result"
    }
   ],
   "source": [
    "arr_1d[:,np.newaxis]"
   ]
  },
  {
   "cell_type": "code",
   "execution_count": 26,
   "id": "d9e57f6a",
   "metadata": {},
   "outputs": [
    {
     "data": {
      "text/plain": [
       "array([[ 0.01918803, -0.56773611, -2.57294031]])"
      ]
     },
     "execution_count": 26,
     "metadata": {},
     "output_type": "execute_result"
    }
   ],
   "source": [
    "arr_1d[np.newaxis,:]"
   ]
  },
  {
   "cell_type": "code",
   "execution_count": 27,
   "id": "f1f23b02",
   "metadata": {},
   "outputs": [],
   "source": [
    "arr=np.random.randn(3,4,5)"
   ]
  },
  {
   "cell_type": "code",
   "execution_count": 28,
   "id": "ee60a4f3",
   "metadata": {},
   "outputs": [],
   "source": [
    "depth_means=arr.mean(2)"
   ]
  },
  {
   "cell_type": "code",
   "execution_count": 29,
   "id": "d56b9d50",
   "metadata": {},
   "outputs": [
    {
     "data": {
      "text/plain": [
       "array([[ 0.33287342, -0.36814891,  0.34333175, -0.1373616 ],\n",
       "       [-0.37867022, -0.20493409,  0.82551367,  0.25758965],\n",
       "       [-0.09691633, -0.01686238, -0.40209607, -0.85464203]])"
      ]
     },
     "execution_count": 29,
     "metadata": {},
     "output_type": "execute_result"
    }
   ],
   "source": [
    "depth_means"
   ]
  },
  {
   "cell_type": "code",
   "execution_count": 31,
   "id": "80cb9a4f",
   "metadata": {},
   "outputs": [
    {
     "data": {
      "text/plain": [
       "(3, 4)"
      ]
     },
     "execution_count": 31,
     "metadata": {},
     "output_type": "execute_result"
    }
   ],
   "source": [
    "depth_means.shape"
   ]
  },
  {
   "cell_type": "code",
   "execution_count": 32,
   "id": "b4869e2a",
   "metadata": {},
   "outputs": [],
   "source": [
    "demeaned=arr-depth_means[:,:,np.newaxis]"
   ]
  },
  {
   "cell_type": "code",
   "execution_count": 33,
   "id": "005c4b61",
   "metadata": {},
   "outputs": [
    {
     "data": {
      "text/plain": [
       "array([[ 4.44089210e-17,  6.66133815e-17,  2.22044605e-17,\n",
       "        -6.93889390e-17],\n",
       "       [ 4.44089210e-17, -4.44089210e-17, -1.11022302e-16,\n",
       "        -8.88178420e-17],\n",
       "       [ 6.66133815e-17,  2.22044605e-17,  8.88178420e-17,\n",
       "        -4.44089210e-17]])"
      ]
     },
     "execution_count": 33,
     "metadata": {},
     "output_type": "execute_result"
    }
   ],
   "source": [
    "demeaned.mean(2)"
   ]
  },
  {
   "cell_type": "markdown",
   "id": "1e29923f",
   "metadata": {},
   "source": [
    "# setting Array values by Broadcasting"
   ]
  },
  {
   "cell_type": "code",
   "execution_count": 35,
   "id": "e2f7ba85",
   "metadata": {},
   "outputs": [],
   "source": [
    "arr=np.zeros((4,3))"
   ]
  },
  {
   "cell_type": "code",
   "execution_count": 36,
   "id": "b9ec4d74",
   "metadata": {},
   "outputs": [],
   "source": [
    "arr[:]=5"
   ]
  },
  {
   "cell_type": "code",
   "execution_count": 37,
   "id": "165659c4",
   "metadata": {},
   "outputs": [
    {
     "data": {
      "text/plain": [
       "array([[5., 5., 5.],\n",
       "       [5., 5., 5.],\n",
       "       [5., 5., 5.],\n",
       "       [5., 5., 5.]])"
      ]
     },
     "execution_count": 37,
     "metadata": {},
     "output_type": "execute_result"
    }
   ],
   "source": [
    "arr"
   ]
  },
  {
   "cell_type": "code",
   "execution_count": 38,
   "id": "272c1844",
   "metadata": {},
   "outputs": [],
   "source": [
    "col=np.array([1.28,-0.42,0.44,1.6])"
   ]
  },
  {
   "cell_type": "code",
   "execution_count": 39,
   "id": "30b8bc88",
   "metadata": {},
   "outputs": [],
   "source": [
    "arr[:]=col[:,np.newaxis]"
   ]
  },
  {
   "cell_type": "code",
   "execution_count": 40,
   "id": "ca9be60e",
   "metadata": {},
   "outputs": [
    {
     "data": {
      "text/plain": [
       "array([[ 1.28,  1.28,  1.28],\n",
       "       [-0.42, -0.42, -0.42],\n",
       "       [ 0.44,  0.44,  0.44],\n",
       "       [ 1.6 ,  1.6 ,  1.6 ]])"
      ]
     },
     "execution_count": 40,
     "metadata": {},
     "output_type": "execute_result"
    }
   ],
   "source": [
    "arr"
   ]
  },
  {
   "cell_type": "code",
   "execution_count": 41,
   "id": "b985a7fb",
   "metadata": {},
   "outputs": [],
   "source": [
    "arr[:2]=[[-1.37],[0.509]]"
   ]
  },
  {
   "cell_type": "code",
   "execution_count": 42,
   "id": "27ca5a54",
   "metadata": {},
   "outputs": [
    {
     "data": {
      "text/plain": [
       "array([[-1.37 , -1.37 , -1.37 ],\n",
       "       [ 0.509,  0.509,  0.509],\n",
       "       [ 0.44 ,  0.44 ,  0.44 ],\n",
       "       [ 1.6  ,  1.6  ,  1.6  ]])"
      ]
     },
     "execution_count": 42,
     "metadata": {},
     "output_type": "execute_result"
    }
   ],
   "source": [
    "arr"
   ]
  },
  {
   "cell_type": "markdown",
   "id": "f5d07dd4",
   "metadata": {},
   "source": [
    "# practice Question"
   ]
  },
  {
   "cell_type": "code",
   "execution_count": 43,
   "id": "7da0936b",
   "metadata": {},
   "outputs": [],
   "source": [
    "Q = np.array( [ [ [1, 3 ] ] ] )\n",
    "P = np.array( [ 5 ] )\n",
    "\n",
    "S = Q + P\n"
   ]
  },
  {
   "cell_type": "code",
   "execution_count": 44,
   "id": "622455ec",
   "metadata": {},
   "outputs": [
    {
     "data": {
      "text/plain": [
       "array([[[6, 8]]])"
      ]
     },
     "execution_count": 44,
     "metadata": {},
     "output_type": "execute_result"
    }
   ],
   "source": [
    "S\n"
   ]
  },
  {
   "cell_type": "code",
   "execution_count": 45,
   "id": "6ece77e4",
   "metadata": {},
   "outputs": [
    {
     "data": {
      "text/plain": [
       "array([5, 6, 7])"
      ]
     },
     "execution_count": 45,
     "metadata": {},
     "output_type": "execute_result"
    }
   ],
   "source": [
    "np.arange(3)+5"
   ]
  },
  {
   "cell_type": "code",
   "execution_count": 46,
   "id": "f51ee29e",
   "metadata": {},
   "outputs": [
    {
     "data": {
      "text/plain": [
       "array([[1., 2., 3.],\n",
       "       [1., 2., 3.],\n",
       "       [1., 2., 3.]])"
      ]
     },
     "execution_count": 46,
     "metadata": {},
     "output_type": "execute_result"
    }
   ],
   "source": [
    "np.ones((3,3))+np.arange(3)"
   ]
  },
  {
   "cell_type": "code",
   "execution_count": 47,
   "id": "4b70a637",
   "metadata": {},
   "outputs": [
    {
     "data": {
      "text/plain": [
       "array([[0],\n",
       "       [1],\n",
       "       [2]])"
      ]
     },
     "execution_count": 47,
     "metadata": {},
     "output_type": "execute_result"
    }
   ],
   "source": [
    "np.arange(3).reshape((3,1))"
   ]
  },
  {
   "cell_type": "code",
   "execution_count": 48,
   "id": "48cac2b3",
   "metadata": {},
   "outputs": [
    {
     "data": {
      "text/plain": [
       "array([0, 1, 2])"
      ]
     },
     "execution_count": 48,
     "metadata": {},
     "output_type": "execute_result"
    }
   ],
   "source": [
    "np.arange(3)"
   ]
  },
  {
   "cell_type": "code",
   "execution_count": 49,
   "id": "3be55885",
   "metadata": {},
   "outputs": [
    {
     "data": {
      "text/plain": [
       "array([[0, 1, 2],\n",
       "       [1, 2, 3],\n",
       "       [2, 3, 4]])"
      ]
     },
     "execution_count": 49,
     "metadata": {},
     "output_type": "execute_result"
    }
   ],
   "source": [
    "np.arange(3).reshape((3,1))+np.arange(3)\n"
   ]
  },
  {
   "cell_type": "code",
   "execution_count": null,
   "id": "84e7c9c3",
   "metadata": {},
   "outputs": [],
   "source": []
  }
 ],
 "metadata": {
  "kernelspec": {
   "display_name": "Python 3 (ipykernel)",
   "language": "python",
   "name": "python3"
  },
  "language_info": {
   "codemirror_mode": {
    "name": "ipython",
    "version": 3
   },
   "file_extension": ".py",
   "mimetype": "text/x-python",
   "name": "python",
   "nbconvert_exporter": "python",
   "pygments_lexer": "ipython3",
   "version": "3.11.1"
  }
 },
 "nbformat": 4,
 "nbformat_minor": 5
}
